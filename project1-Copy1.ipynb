{
 "cells": [
  {
   "cell_type": "markdown",
   "id": "019a6c1b",
   "metadata": {
    "extensions": {
     "jupyter_dashboards": {
      "version": 1,
      "views": {
       "default_view": {
        "col": 0,
        "height": 3,
        "row": 0,
        "width": 12
       }
      }
     }
    }
   },
   "source": [
    "# MEASURES OF ASSOCIATION FOR CATEGORICAL DATA"
   ]
  },
  {
   "cell_type": "markdown",
   "id": "f59a4077",
   "metadata": {
    "extensions": {
     "jupyter_dashboards": {
      "version": 1,
      "views": {
       "default_view": {
        "col": 0,
        "height": 2,
        "row": 3,
        "width": 12
       }
      }
     }
    }
   },
   "source": [
    "***\n",
    "***"
   ]
  },
  {
   "cell_type": "markdown",
   "id": "e370041f",
   "metadata": {
    "extensions": {
     "jupyter_dashboards": {
      "version": 1,
      "views": {
       "default_view": {
        "col": 0,
        "height": 2,
        "row": 5,
        "width": 12
       }
      }
     }
    }
   },
   "source": [
    "### In this lecture we will learn Contingency tables and Chi-square. Also some coding basics will be mentioned. In the last part we will focus on data visualization and plot libraries. \n"
   ]
  },
  {
   "cell_type": "markdown",
   "id": "95efd36d",
   "metadata": {
    "extensions": {
     "jupyter_dashboards": {
      "version": 1,
      "views": {
       "default_view": {
        "col": 0,
        "height": 2,
        "row": 7,
        "width": 12
       }
      }
     }
    }
   },
   "source": [
    "### First we will import the neccesarry libraries."
   ]
  },
  {
   "cell_type": "code",
   "execution_count": 3,
   "id": "b0c5ecff",
   "metadata": {
    "extensions": {
     "jupyter_dashboards": {
      "version": 1,
      "views": {
       "default_view": {
        "hidden": true
       }
      }
     }
    }
   },
   "outputs": [],
   "source": [
    "import numpy as np\n",
    "import pandas as pd\n",
    "import matplotlib.pyplot as plt\n",
    "import seaborn as sns\n",
    "import warnings\n",
    "import operator\n",
    "import csv\n",
    "from collections import Counter\n",
    "import scipy.stats as stats\n",
    "from scipy.stats import chi2_contingency\n",
    "from scipy.stats import chi2"
   ]
  },
  {
   "cell_type": "markdown",
   "id": "dfcf2c4b",
   "metadata": {
    "extensions": {
     "jupyter_dashboards": {
      "version": 1,
      "views": {
       "default_view": {
        "col": 0,
        "height": 2,
        "row": 10,
        "width": 12
       }
      }
     }
    }
   },
   "source": [
    "### We do not want to see undesired warnings in our report."
   ]
  },
  {
   "cell_type": "code",
   "execution_count": 4,
   "id": "709f2b44",
   "metadata": {
    "extensions": {
     "jupyter_dashboards": {
      "version": 1,
      "views": {
       "default_view": {
        "hidden": true
       }
      }
     }
    }
   },
   "outputs": [],
   "source": [
    "warnings.filterwarnings('ignore')"
   ]
  },
  {
   "cell_type": "markdown",
   "id": "7d3ecea4",
   "metadata": {
    "extensions": {
     "jupyter_dashboards": {
      "version": 1,
      "views": {
       "default_view": {
        "col": 0,
        "height": 2,
        "row": 16,
        "width": 12
       }
      }
     }
    }
   },
   "source": [
    "\n",
    "###  It's time to read the dataset. The dataset is taken from https://cses.org/data-download/cses-module-5-2016-2021/. All the necessary information about the dataset is given in the booklets at the website. Especially, reading the booklet about the variable names is recommended. Our dataset is in cvs format. \n"
   ]
  },
  {
   "cell_type": "code",
   "execution_count": 5,
   "id": "5ad394b6",
   "metadata": {
    "extensions": {
     "jupyter_dashboards": {
      "version": 1,
      "views": {
       "default_view": {
        "col": 0,
        "height": 2,
        "row": 18,
        "width": 12
       }
      }
     }
    }
   },
   "outputs": [],
   "source": [
    "#data = pd.read_csv(r'cses5.csv')\n",
    "#data.info()"
   ]
  },
  {
   "cell_type": "markdown",
   "id": "b4745345",
   "metadata": {
    "extensions": {
     "jupyter_dashboards": {
      "version": 1,
      "views": {
       "default_view": {
        "col": 0,
        "height": 2,
        "row": 20,
        "width": 12
       }
      }
     }
    }
   },
   "source": [
    "### Our dataset columns has code names for variables. We will change the names in oder to simplify the understanding."
   ]
  },
  {
   "cell_type": "code",
   "execution_count": 6,
   "id": "9b43a7c7",
   "metadata": {
    "extensions": {
     "jupyter_dashboards": {
      "version": 1,
      "views": {
       "default_view": {
        "hidden": true
       }
      }
     }
    }
   },
   "outputs": [],
   "source": [
    "#data = data.rename(columns={'E1006_NAM': 'country_name'})\n",
    "#data = data.rename(columns={'E2002': 'gender'})\n",
    "#data = data.rename(columns={'E2003': 'education'})\n",
    "#data = data.rename(columns={'E2006': 'employement'})\n",
    "#data = data.rename(columns={'E3024_4': 'closeness_party'})\n",
    "#data = data.rename(columns={'E4006': 'turnout'})\n",
    "#data = data.rename(columns={'E5075': 'women_in_parliament'})"
   ]
  },
  {
   "cell_type": "markdown",
   "id": "f8e215f8",
   "metadata": {
    "extensions": {
     "jupyter_dashboards": {
      "version": 1,
      "views": {
       "default_view": {
        "col": 0,
        "height": 2,
        "row": 24,
        "width": 12
       }
      }
     }
    }
   },
   "source": [
    "### Also, we get rid of the unnecessary variables to shrink the data, as shown in the previous info() command, it has 554 different variables (column entries)."
   ]
  },
  {
   "cell_type": "code",
   "execution_count": 7,
   "id": "8cc01104",
   "metadata": {
    "extensions": {
     "jupyter_dashboards": {
      "version": 1,
      "views": {
       "default_view": {
        "col": 0,
        "height": 2,
        "row": 26,
        "width": 12
       }
      }
     }
    }
   },
   "outputs": [],
   "source": [
    "#data1 = data[['country_name', 'gender','education',\n",
    "#        'employement', 'closeness_party','turnout','women_in_parliament']]\n",
    "\n",
    "#data1.info()"
   ]
  },
  {
   "cell_type": "code",
   "execution_count": 8,
   "id": "9db0fa1f",
   "metadata": {},
   "outputs": [
    {
     "name": "stdout",
     "output_type": "stream",
     "text": [
      "<class 'pandas.core.frame.DataFrame'>\n",
      "RangeIndex: 55515 entries, 0 to 55514\n",
      "Data columns (total 8 columns):\n",
      " #   Column               Non-Null Count  Dtype  \n",
      "---  ------               --------------  -----  \n",
      " 0   Unnamed: 0           55515 non-null  int64  \n",
      " 1   country_name         55515 non-null  object \n",
      " 2   gender               55515 non-null  int64  \n",
      " 3   education            55515 non-null  int64  \n",
      " 4   employement          55515 non-null  int64  \n",
      " 5   closeness_party      55515 non-null  int64  \n",
      " 6   turnout              55515 non-null  float64\n",
      " 7   women_in_parliament  55515 non-null  float64\n",
      "dtypes: float64(2), int64(5), object(1)\n",
      "memory usage: 3.4+ MB\n"
     ]
    }
   ],
   "source": [
    "data1 = pd.read_csv(r'data1.csv') \n",
    "data1.info()"
   ]
  },
  {
   "cell_type": "markdown",
   "id": "757a3d1c",
   "metadata": {
    "extensions": {
     "jupyter_dashboards": {
      "version": 1,
      "views": {
       "default_view": {
        "col": 0,
        "height": 2,
        "row": 28,
        "width": 12
       }
      }
     }
    }
   },
   "source": [
    "###  In the following cell, we will create a dictionary that use country names as dictionary keys. We will use this dictionary a lot in the remaining of the project. The main logic is spliting the total data by using country names. Therefore, we can use a country name to call all the data about this country."
   ]
  },
  {
   "cell_type": "code",
   "execution_count": 9,
   "id": "6b899d8f",
   "metadata": {
    "extensions": {
     "jupyter_dashboards": {
      "version": 1,
      "views": {
       "default_view": {
        "hidden": true
       }
      }
     }
    }
   },
   "outputs": [],
   "source": [
    "df_dict = {ct: data1[data1.country_name== ct].reset_index(drop=True) for ct in data1['country_name'].unique()}"
   ]
  },
  {
   "cell_type": "markdown",
   "id": "c88ca044",
   "metadata": {
    "extensions": {
     "jupyter_dashboards": {
      "version": 1,
      "views": {
       "default_view": {
        "col": 0,
        "height": 2,
        "row": 32,
        "width": 12
       }
      }
     }
    }
   },
   "source": [
    "###  Before starting the calculations, we need to cleanse the data set. Since missing informations are determined, we need to get rid of them. For instance, a missing information in turnout data is given with '997' and '999'. So we need to make them 0 before calculating the avarage turnout of the countries. While making the missing turnouts 0, we need to change respondent count so that avarage is not affected."
   ]
  },
  {
   "cell_type": "code",
   "execution_count": 10,
   "id": "67e3f6f0",
   "metadata": {
    "extensions": {
     "jupyter_dashboards": {
      "version": 1,
      "views": {
       "default_view": {
        "hidden": true
       }
      }
     }
    }
   },
   "outputs": [],
   "source": [
    "turnout_list = {}\n",
    "count = {}\n",
    "b = 0\n",
    "for country in df_dict.keys():\n",
    "    count[country]=0\n",
    "    for i in range(len(df_dict[country]['turnout'])):\n",
    "        if df_dict[country]['turnout'][i] == 997 or df_dict[country]['turnout'][i] == 999:\n",
    "            df_dict[country]['turnout'][i] = 0\n",
    "            count[country] = count[country] + 1\n",
    "            \n",
    "    b = sum(df_dict[country]['turnout'])\n",
    "    if b == 0.0:\n",
    "        b = 0.000001\n",
    "        count[country] = len(df_dict[country])-1\n",
    "    turnout_list[country] =  b/(len(df_dict[country])- count[country])"
   ]
  },
  {
   "cell_type": "markdown",
   "id": "daa74776",
   "metadata": {
    "extensions": {
     "jupyter_dashboards": {
      "version": 1,
      "views": {
       "default_view": {
        "col": 0,
        "height": 2,
        "row": 36,
        "width": 12
       }
      }
     }
    }
   },
   "source": [
    "### Now, we have average turnouts of countries in the turnout_list and we can access them by using country names. \n",
    "\n",
    "### Next step, we will sort them to find the most and the least. Some of the countries does not sustain neccessary data, those are at the end of the list."
   ]
  },
  {
   "cell_type": "code",
   "execution_count": 11,
   "id": "3d159a0f",
   "metadata": {
    "extensions": {
     "jupyter_dashboards": {
      "version": 1,
      "views": {
       "default_view": {
        "col": 0,
        "height": 2,
        "row": 38,
        "width": 12
       }
      }
     }
    }
   },
   "outputs": [
    {
     "name": "stdout",
     "output_type": "stream",
     "text": [
      "{'Australia': 92.12787860931059, 'Belgium': 88.7206829823555, 'Turkey': 88.02779232928033, 'Sweden': 87.25671511627937, 'Brazil': 83.9430167597752, 'Iceland': 80.48768499256693, 'Austria': 79.9780833333332, 'Norway': 78.4532366071428, 'Germany': 75.68032480314962, 'Italy': 73.12688877755477, 'Finland': 72.18648310388005, 'Taiwan': 70.81278338278948, 'Great Britain': 69.74130081300834, 'Canada': 68.02560581583201, 'Costa Rica': 65.9588688410825, 'Ireland': 65.01590233545657, 'New Zealand': 63.40353982300916, 'Hong Kong': 58.414290657439494, 'Republic of Korea': 57.80560467055897, 'Greece': 56.39044573643435, 'Portugal': 55.61186000000017, 'United States of America': 55.171381578947646, 'Lithuania': 50.3169533333337, 'Chile': 46.8356587926498, 'Switzerland': 46.17013993541263, 'France': 1e-06, 'Hungary': 1e-06, 'Montenegro': 1e-06}\n"
     ]
    }
   ],
   "source": [
    "sorted_turnout = dict(sorted(turnout_list.items(), key=operator.itemgetter(1),reverse=True))\n",
    "print(sorted_turnout)"
   ]
  },
  {
   "cell_type": "markdown",
   "id": "9f431401",
   "metadata": {
    "extensions": {
     "jupyter_dashboards": {
      "version": 1,
      "views": {
       "default_view": {
        "col": 0,
        "height": 2,
        "row": 40,
        "width": 12
       }
      }
     }
    }
   },
   "source": [
    "### Let's see the top five in a clear format."
   ]
  },
  {
   "cell_type": "code",
   "execution_count": 12,
   "id": "a519f175",
   "metadata": {
    "extensions": {
     "jupyter_dashboards": {
      "version": 1,
      "views": {
       "default_view": {
        "col": 0,
        "height": 2,
        "row": 42,
        "width": 12
       }
      }
     }
    }
   },
   "outputs": [
    {
     "name": "stdout",
     "output_type": "stream",
     "text": [
      "{'Australia': 92.12787860931059, 'Belgium': 88.7206829823555, 'Turkey': 88.02779232928033, 'Sweden': 87.25671511627937, 'Brazil': 83.9430167597752}\n"
     ]
    }
   ],
   "source": [
    "top_five_list = [*sorted_turnout.keys()][0:5]\n",
    "\n",
    "turnouts = {}\n",
    "for country in top_five_list:\n",
    "    turnouts[country] = turnout_list[country]\n",
    "    \n",
    "print(turnouts)"
   ]
  },
  {
   "cell_type": "markdown",
   "id": "34cd3ca5",
   "metadata": {
    "extensions": {
     "jupyter_dashboards": {
      "version": 1,
      "views": {
       "default_view": {
        "col": 0,
        "height": 2,
        "row": 44,
        "width": 12
       }
      }
     }
    }
   },
   "source": [
    "###  From this point we can determine our suspects. We will choose two countries for statistical analysis; one with high turnout value, the other one with low turnout value.\n",
    "\n",
    "### Our selected countries are :\n",
    "\n",
    "    1) Turkey (high turnout value: 88.027)\n",
    "    2) Switzerland (low turnout value: 46.170)"
   ]
  },
  {
   "cell_type": "markdown",
   "id": "156b8116",
   "metadata": {
    "extensions": {
     "jupyter_dashboards": {
      "version": 1,
      "views": {
       "default_view": {
        "col": 0,
        "height": 2,
        "row": 46,
        "width": 12
       }
      }
     }
    }
   },
   "source": [
    "# TURKEY "
   ]
  },
  {
   "cell_type": "markdown",
   "id": "31df858c",
   "metadata": {
    "extensions": {
     "jupyter_dashboards": {
      "version": 1,
      "views": {
       "default_view": {
        "col": 0,
        "height": 2,
        "row": 48,
        "width": 12
       }
      }
     }
    }
   },
   "source": [
    "***"
   ]
  },
  {
   "cell_type": "markdown",
   "id": "aa464320",
   "metadata": {
    "extensions": {
     "jupyter_dashboards": {
      "version": 1,
      "views": {
       "default_view": {
        "col": 0,
        "height": 2,
        "row": 50,
        "width": 12
       }
      }
     }
    }
   },
   "source": [
    "### We will start with clearing missing informations to get much more clean and logical graphs and tables."
   ]
  },
  {
   "cell_type": "code",
   "execution_count": 13,
   "id": "765d6802",
   "metadata": {
    "extensions": {
     "jupyter_dashboards": {
      "version": 1,
      "views": {
       "default_view": {
        "hidden": true
       }
      }
     }
    }
   },
   "outputs": [],
   "source": [
    "for i in range(len(df_dict['Turkey']['education'])):\n",
    "    if df_dict['Turkey']['education'][i] == 97 or df_dict['Turkey']['education'][i] == 98 or df_dict['Turkey']['education'][i] == 99:\n",
    "        df_dict['Turkey']['education'][i] = -1\n",
    "    elif df_dict['Turkey']['education'][i] == 96:\n",
    "        df_dict['Turkey']['education'][i] = 0\n",
    "\n",
    "for i in range(len(df_dict['Turkey']['closeness_party'])):\n",
    "    if df_dict['Turkey']['closeness_party'][i] == 7 or df_dict['Turkey']['closeness_party'][i] == 8 or df_dict['Turkey']['closeness_party'][i] == 9:\n",
    "        df_dict['Turkey']['closeness_party'][i] = -1\n",
    "\n",
    "for i in range(len(df_dict['Turkey']['employement'])):\n",
    "    if df_dict['Turkey']['employement'][i] == 13 or df_dict['Turkey']['employement'][i] == 14 or df_dict['Turkey']['employement'][i] == 97  or df_dict['Turkey']['employement'][i] == 98  or df_dict['Turkey']['employement'][i] == 99:\n",
    "        df_dict['Turkey']['employement'][i] = -1"
   ]
  },
  {
   "cell_type": "markdown",
   "id": "12680f3d",
   "metadata": {
    "extensions": {
     "jupyter_dashboards": {
      "version": 1,
      "views": {
       "default_view": {
        "col": 0,
        "height": 2,
        "row": 54,
        "width": 12
       }
      }
     }
    }
   },
   "source": [
    "### Now, we can start to learn what is Contingency tables and Chi-square. \n",
    "\n",
    "### We will create a table in the following cells with gender and degree of closeness to a party in Turkey. \n",
    "\n",
    "### This table is used to learn the concepts but different social statuses that are listed above might be selected."
   ]
  },
  {
   "cell_type": "code",
   "execution_count": 14,
   "id": "f11fc956",
   "metadata": {
    "extensions": {
     "jupyter_dashboards": {
      "version": 1,
      "views": {
       "default_view": {
        "hidden": true
       }
      }
     }
    }
   },
   "outputs": [],
   "source": [
    "count_female_t = 0\n",
    "count_male_t = 0\n",
    "\n",
    "male = [0]*4\n",
    "female = [0]*4\n",
    "for i in range(len(df_dict['Turkey']['gender'])):\n",
    "    if df_dict['Turkey']['closeness_party'][i] == 1:\n",
    "        if df_dict['Turkey']['gender'][i] == 1:\n",
    "            count_male_t = count_male_t + 1;\n",
    "            male[0] = male[0] + 1\n",
    "        elif df_dict['Turkey']['gender'][i] == 2:\n",
    "            count_female_t = count_female_t + 1\n",
    "            female[0] = female[0] + 1\n",
    "    if df_dict['Turkey']['closeness_party'][i] == 2:\n",
    "        if df_dict['Turkey']['gender'][i] == 1:\n",
    "            count_male_t = count_male_t + 1;\n",
    "            male[1] = male[1] + 1\n",
    "        elif df_dict['Turkey']['gender'][i] == 2:\n",
    "            count_female_t = count_female_t + 1\n",
    "            female[1] = female[1] + 1\n",
    "    if df_dict['Turkey']['closeness_party'][i] == 3:\n",
    "        if df_dict['Turkey']['gender'][i] == 1:\n",
    "            count_male_t = count_male_t + 1;\n",
    "            male[2] = male[2] + 1\n",
    "        elif df_dict['Turkey']['gender'][i] == 2:\n",
    "            count_female_t = count_female_t + 1\n",
    "            female[2] = female[2] + 1\n",
    "    if df_dict['Turkey']['closeness_party'][i] == -1:\n",
    "        if df_dict['Turkey']['gender'][i] == 1:\n",
    "            count_male_t = count_male_t + 1;\n",
    "            male[3] = male[3] + 1\n",
    "        elif df_dict['Turkey']['gender'][i] == 2:\n",
    "            count_female_t = count_female_t + 1\n",
    "            female[3] = female[3] + 1\n"
   ]
  },
  {
   "cell_type": "markdown",
   "id": "aaa3379c",
   "metadata": {
    "extensions": {
     "jupyter_dashboards": {
      "version": 1,
      "views": {
       "default_view": {
        "col": 0,
        "height": 2,
        "row": 58,
        "width": 12
       }
      }
     }
    }
   },
   "source": [
    "### We are going to create sample data which is about gender and degree of closeness to a party in Turkey. Pandas index and columns are used to name rows and columns. "
   ]
  },
  {
   "cell_type": "code",
   "execution_count": 15,
   "id": "85f801c4",
   "metadata": {
    "extensions": {
     "jupyter_dashboards": {
      "version": 1,
      "views": {
       "default_view": {
        "col": 0,
        "height": 2,
        "row": 60,
        "width": 12
       }
      }
     }
    }
   },
   "outputs": [
    {
     "data": {
      "text/html": [
       "<div>\n",
       "<style scoped>\n",
       "    .dataframe tbody tr th:only-of-type {\n",
       "        vertical-align: middle;\n",
       "    }\n",
       "\n",
       "    .dataframe tbody tr th {\n",
       "        vertical-align: top;\n",
       "    }\n",
       "\n",
       "    .dataframe thead th {\n",
       "        text-align: right;\n",
       "    }\n",
       "</style>\n",
       "<table border=\"1\" class=\"dataframe\">\n",
       "  <thead>\n",
       "    <tr style=\"text-align: right;\">\n",
       "      <th></th>\n",
       "      <th>Very Close</th>\n",
       "      <th>Somewhat Close</th>\n",
       "      <th>Not very Close</th>\n",
       "      <th>Missing/No Info</th>\n",
       "    </tr>\n",
       "  </thead>\n",
       "  <tbody>\n",
       "    <tr>\n",
       "      <th>Male</th>\n",
       "      <td>125</td>\n",
       "      <td>170</td>\n",
       "      <td>17</td>\n",
       "      <td>160</td>\n",
       "    </tr>\n",
       "    <tr>\n",
       "      <th>Female</th>\n",
       "      <td>138</td>\n",
       "      <td>258</td>\n",
       "      <td>16</td>\n",
       "      <td>185</td>\n",
       "    </tr>\n",
       "  </tbody>\n",
       "</table>\n",
       "</div>"
      ],
      "text/plain": [
       "        Very Close  Somewhat Close  Not very Close  Missing/No Info\n",
       "Male           125             170              17              160\n",
       "Female         138             258              16              185"
      ]
     },
     "execution_count": 15,
     "metadata": {},
     "output_type": "execute_result"
    }
   ],
   "source": [
    "closeness_party = pd.DataFrame(\n",
    "    [\n",
    "        male,\n",
    "        female\n",
    "    ],\n",
    "    index=[\"Male\",\"Female\"],\n",
    "    columns=[\"Very Close\",\"Somewhat Close\",\"Not very Close\",\"Missing/No Info\"])\n",
    "\n",
    "closeness_party"
   ]
  },
  {
   "cell_type": "markdown",
   "id": "6d4153bb",
   "metadata": {
    "extensions": {
     "jupyter_dashboards": {
      "version": 1,
      "views": {
       "default_view": {
        "col": 0,
        "height": 2,
        "row": 62,
        "width": 12
       }
      }
     }
    }
   },
   "source": [
    "### Python uses zero-based indexing. That means, the first element has an index 0, the second has index 1, and so on. If you want to access the fourth value in the chi2_contingency(closeness_party) you need to use [3]."
   ]
  },
  {
   "cell_type": "markdown",
   "id": "64a87848",
   "metadata": {
    "extensions": {
     "jupyter_dashboards": {
      "version": 1,
      "views": {
       "default_view": {
        "col": 0,
        "height": 2,
        "row": 64,
        "width": 12
       }
      }
     }
    }
   },
   "source": [
    "# chi2_contingency"
   ]
  },
  {
   "cell_type": "markdown",
   "id": "771e68d2",
   "metadata": {
    "extensions": {
     "jupyter_dashboards": {
      "version": 1,
      "views": {
       "default_view": {
        "col": 0,
        "height": 2,
        "row": 66,
        "width": 12
       }
      }
     }
    }
   },
   "source": [
    "### SciPy’s chi2_contingency() returns four values, 𝜒2 value, p-value, degree of freedom and expected values."
   ]
  },
  {
   "cell_type": "code",
   "execution_count": 16,
   "id": "5fdc7c50",
   "metadata": {
    "extensions": {
     "jupyter_dashboards": {
      "version": 1,
      "views": {
       "default_view": {
        "col": 0,
        "height": 2,
        "row": 68,
        "width": 12
       }
      }
     }
    }
   },
   "outputs": [
    {
     "data": {
      "text/plain": [
       "(6.044118123095128,\n",
       " 0.10948340023844266,\n",
       " 3,\n",
       " array([[116.12347989, 188.97661366,  14.57062675, 152.3292797 ],\n",
       "        [146.87652011, 239.02338634,  18.42937325, 192.6707203 ]]))"
      ]
     },
     "execution_count": 16,
     "metadata": {},
     "output_type": "execute_result"
    }
   ],
   "source": [
    "chi2_contingency(closeness_party)"
   ]
  },
  {
   "cell_type": "markdown",
   "id": "6d3eb8e2",
   "metadata": {
    "extensions": {
     "jupyter_dashboards": {
      "version": 1,
      "views": {
       "default_view": {
        "col": 0,
        "height": 2,
        "row": 70,
        "width": 12
       }
      }
     }
    }
   },
   "source": [
    "# Expected values"
   ]
  },
  {
   "cell_type": "markdown",
   "id": "ccdbd03d",
   "metadata": {
    "extensions": {
     "jupyter_dashboards": {
      "version": 1,
      "views": {
       "default_view": {
        "col": 0,
        "height": 2,
        "row": 72,
        "width": 12
       }
      }
     }
    }
   },
   "source": [
    "### You can find the expected values at the forth in the returned value. It is in an array form. Let’s print the expected values. We again use the Pandas dataframe. We are going to add index and column values and round the values to the two decimal places round(2)."
   ]
  },
  {
   "cell_type": "code",
   "execution_count": 17,
   "id": "07dfac8e",
   "metadata": {
    "extensions": {
     "jupyter_dashboards": {
      "version": 1,
      "views": {
       "default_view": {
        "col": 0,
        "height": 2,
        "row": 74,
        "width": 12
       }
      }
     }
    }
   },
   "outputs": [
    {
     "data": {
      "text/html": [
       "<div>\n",
       "<style scoped>\n",
       "    .dataframe tbody tr th:only-of-type {\n",
       "        vertical-align: middle;\n",
       "    }\n",
       "\n",
       "    .dataframe tbody tr th {\n",
       "        vertical-align: top;\n",
       "    }\n",
       "\n",
       "    .dataframe thead th {\n",
       "        text-align: right;\n",
       "    }\n",
       "</style>\n",
       "<table border=\"1\" class=\"dataframe\">\n",
       "  <thead>\n",
       "    <tr style=\"text-align: right;\">\n",
       "      <th></th>\n",
       "      <th>Very Close</th>\n",
       "      <th>Somewhat Close</th>\n",
       "      <th>Not very Close</th>\n",
       "      <th>Missing/No Info</th>\n",
       "    </tr>\n",
       "  </thead>\n",
       "  <tbody>\n",
       "    <tr>\n",
       "      <th>Male</th>\n",
       "      <td>116.12</td>\n",
       "      <td>188.98</td>\n",
       "      <td>14.57</td>\n",
       "      <td>152.33</td>\n",
       "    </tr>\n",
       "    <tr>\n",
       "      <th>Female</th>\n",
       "      <td>146.88</td>\n",
       "      <td>239.02</td>\n",
       "      <td>18.43</td>\n",
       "      <td>192.67</td>\n",
       "    </tr>\n",
       "  </tbody>\n",
       "</table>\n",
       "</div>"
      ],
      "text/plain": [
       "        Very Close  Somewhat Close  Not very Close  Missing/No Info\n",
       "Male        116.12          188.98           14.57           152.33\n",
       "Female      146.88          239.02           18.43           192.67"
      ]
     },
     "execution_count": 17,
     "metadata": {},
     "output_type": "execute_result"
    }
   ],
   "source": [
    "df=chi2_contingency(closeness_party)[3]\n",
    "\n",
    "pd.DataFrame(\n",
    "    data=df[:,:], \n",
    "    index=[\"Male\",\"Female\"],\n",
    "    columns=[\"Very Close\",\"Somewhat Close\",\"Not very Close\",\"Missing/No Info\"]).round(2)"
   ]
  },
  {
   "cell_type": "markdown",
   "id": "5d875949",
   "metadata": {
    "extensions": {
     "jupyter_dashboards": {
      "version": 1,
      "views": {
       "default_view": {
        "col": 0,
        "height": 2,
        "row": 76,
        "width": 12
       }
      }
     }
    }
   },
   "source": [
    "### The above table is called a contingency table. You calculate the expected values from the observed data using the following equation."
   ]
  },
  {
   "cell_type": "markdown",
   "id": "ac98b811",
   "metadata": {
    "extensions": {
     "jupyter_dashboards": {
      "version": 1,
      "views": {
       "default_view": {
        "col": 0,
        "height": 2,
        "row": 78,
        "width": 12
       }
      }
     }
    }
   },
   "source": [
    "# 𝜒2 value"
   ]
  },
  {
   "cell_type": "markdown",
   "id": "35458b72",
   "metadata": {
    "extensions": {
     "jupyter_dashboards": {
      "version": 1,
      "views": {
       "default_view": {
        "col": 0,
        "height": 2,
        "row": 80,
        "width": 12
       }
      }
     }
    }
   },
   "source": [
    "### The 𝜒2 equation tells us to find the square of the difference between the actual value and expected value and divide it by the expected value. This is what chi2_contingency is doing behind the scene. Since Python is 0 based index, in order to print the 𝜒2 we need to use [0] which is the first value."
   ]
  },
  {
   "cell_type": "code",
   "execution_count": 18,
   "id": "3d6de8ce",
   "metadata": {
    "extensions": {
     "jupyter_dashboards": {
      "version": 1,
      "views": {
       "default_view": {
        "col": 0,
        "height": 2,
        "row": 82,
        "width": 12
       }
      }
     }
    }
   },
   "outputs": [
    {
     "data": {
      "text/plain": [
       "6.044118123095128"
      ]
     },
     "execution_count": 18,
     "metadata": {},
     "output_type": "execute_result"
    }
   ],
   "source": [
    "chisquare=chi2_contingency(closeness_party)[0]\n",
    "\n",
    "chisquare"
   ]
  },
  {
   "cell_type": "markdown",
   "id": "beb92fed",
   "metadata": {
    "extensions": {
     "jupyter_dashboards": {
      "version": 1,
      "views": {
       "default_view": {
        "col": 0,
        "height": 2,
        "row": 84,
        "width": 12
       }
      }
     }
    }
   },
   "source": [
    "# p-Value"
   ]
  },
  {
   "cell_type": "markdown",
   "id": "fe5cb4e1",
   "metadata": {
    "extensions": {
     "jupyter_dashboards": {
      "version": 1,
      "views": {
       "default_view": {
        "col": 0,
        "height": 2,
        "row": 86,
        "width": 12
       }
      }
     }
    }
   },
   "source": [
    "### You can find the p-value at the second in the returned value. p-value measures the probability of seeing the effect when the null hypothesis is true. So, when the p-value is low enough, we reject the null hypothesis and conclude the observed effect holds."
   ]
  },
  {
   "cell_type": "code",
   "execution_count": 19,
   "id": "eea45a09",
   "metadata": {
    "extensions": {
     "jupyter_dashboards": {
      "version": 1,
      "views": {
       "default_view": {
        "col": 0,
        "height": 2,
        "row": 88,
        "width": 12
       }
      }
     }
    }
   },
   "outputs": [
    {
     "data": {
      "text/plain": [
       "0.10948340023844266"
      ]
     },
     "execution_count": 19,
     "metadata": {},
     "output_type": "execute_result"
    }
   ],
   "source": [
    "pvalue=chi2_contingency(closeness_party)[1]\n",
    "\n",
    "pvalue"
   ]
  },
  {
   "cell_type": "markdown",
   "id": "b4f22071",
   "metadata": {
    "extensions": {
     "jupyter_dashboards": {
      "version": 1,
      "views": {
       "default_view": {
        "col": 0,
        "height": 2,
        "row": 90,
        "width": 12
       }
      }
     }
    }
   },
   "source": [
    "# Degree of freedom"
   ]
  },
  {
   "cell_type": "markdown",
   "id": "20520a9c",
   "metadata": {
    "extensions": {
     "jupyter_dashboards": {
      "version": 1,
      "views": {
       "default_view": {
        "col": 0,
        "height": 2,
        "row": 92,
        "width": 12
       }
      }
     }
    }
   },
   "source": [
    "### In the returned value from the chi2_contingency, the third one is the degree of freedom. We use [2] which is the third one. The following will output 3."
   ]
  },
  {
   "cell_type": "code",
   "execution_count": 20,
   "id": "00236f52",
   "metadata": {
    "extensions": {
     "jupyter_dashboards": {
      "version": 1,
      "views": {
       "default_view": {
        "col": 0,
        "height": 2,
        "row": 94,
        "width": 12
       }
      }
     }
    }
   },
   "outputs": [
    {
     "data": {
      "text/plain": [
       "3"
      ]
     },
     "execution_count": 20,
     "metadata": {},
     "output_type": "execute_result"
    }
   ],
   "source": [
    "dof=chi2_contingency(closeness_party)[2]\n",
    "\n",
    "dof"
   ]
  },
  {
   "cell_type": "markdown",
   "id": "7f4ef3e5",
   "metadata": {
    "extensions": {
     "jupyter_dashboards": {
      "version": 1,
      "views": {
       "default_view": {
        "col": 0,
        "height": 2,
        "row": 96,
        "width": 12
       }
      }
     }
    }
   },
   "source": [
    "# Critical values"
   ]
  },
  {
   "cell_type": "markdown",
   "id": "281375bc",
   "metadata": {
    "extensions": {
     "jupyter_dashboards": {
      "version": 1,
      "views": {
       "default_view": {
        "col": 0,
        "height": 2,
        "row": 98,
        "width": 12
       }
      }
     }
    }
   },
   "source": [
    "### The level of significance and degree of freedom can be used to find the critical value. As I mentioned, you can find the degree of freedom from the array. State and define probability from the level of significance, 1%, 5% 10%, etc."
   ]
  },
  {
   "cell_type": "code",
   "execution_count": 21,
   "id": "cd8b611d",
   "metadata": {
    "extensions": {
     "jupyter_dashboards": {
      "version": 1,
      "views": {
       "default_view": {
        "col": 0,
        "height": 2,
        "row": 100,
        "width": 12
       }
      }
     }
    }
   },
   "outputs": [
    {
     "data": {
      "text/plain": [
       "11.344866730144373"
      ]
     },
     "execution_count": 21,
     "metadata": {},
     "output_type": "execute_result"
    }
   ],
   "source": [
    "significance = 0.01\n",
    "p = 1 - significance\n",
    "dof = chi2_contingency(closeness_party)[2]\n",
    "critical_value = chi2.ppf(p, dof)\n",
    "\n",
    "critical_value"
   ]
  },
  {
   "cell_type": "markdown",
   "id": "4802ff6e",
   "metadata": {
    "extensions": {
     "jupyter_dashboards": {
      "version": 1,
      "views": {
       "default_view": {
        "col": 0,
        "height": 2,
        "row": 102,
        "width": 12
       }
      }
     }
    }
   },
   "source": [
    "### Let's check the p-value by using the critical value that we calculated."
   ]
  },
  {
   "cell_type": "code",
   "execution_count": 22,
   "id": "fef81c07",
   "metadata": {
    "extensions": {
     "jupyter_dashboards": {
      "version": 1,
      "views": {
       "default_view": {
        "col": 0,
        "height": 2,
        "row": 104,
        "width": 12
       }
      }
     }
    }
   },
   "outputs": [
    {
     "data": {
      "text/plain": [
       "0.99"
      ]
     },
     "execution_count": 22,
     "metadata": {},
     "output_type": "execute_result"
    }
   ],
   "source": [
    "p = chi2.cdf(critical_value, dof)\n",
    "\n",
    "p"
   ]
  },
  {
   "cell_type": "markdown",
   "id": "36792d42",
   "metadata": {
    "extensions": {
     "jupyter_dashboards": {
      "version": 1,
      "views": {
       "default_view": {
        "col": 0,
        "height": 2,
        "row": 106,
        "width": 12
       }
      }
     }
    }
   },
   "source": [
    "### Which confirms the critical value. [ 1-0.01 ]"
   ]
  },
  {
   "cell_type": "markdown",
   "id": "310ff2aa",
   "metadata": {
    "extensions": {
     "jupyter_dashboards": {
      "version": 1,
      "views": {
       "default_view": {
        "col": 0,
        "height": 2,
        "row": 108,
        "width": 12
       }
      }
     }
    }
   },
   "source": [
    "# The Null and Alternative Hypotheses"
   ]
  },
  {
   "cell_type": "markdown",
   "id": "d8881b41",
   "metadata": {
    "extensions": {
     "jupyter_dashboards": {
      "version": 1,
      "views": {
       "default_view": {
        "col": 0,
        "height": 2,
        "row": 110,
        "width": 12
       }
      }
     }
    }
   },
   "source": [
    "### Chi-square test requires to state the null hypothesis, H0, and the alternative hypothesis, H1. The null hypothesis is the statement that our two variables are independent. The alternative hypothesis is the statement that they are not independent."
   ]
  },
  {
   "cell_type": "markdown",
   "id": "bc933c5f",
   "metadata": {
    "extensions": {
     "jupyter_dashboards": {
      "version": 1,
      "views": {
       "default_view": {
        "col": 0,
        "height": 2,
        "row": 112,
        "width": 12
       }
      }
     }
    }
   },
   "source": [
    "### If the calculated Chi-square is greater than the critical value we reject the null hypothesis.\n"
   ]
  },
  {
   "cell_type": "code",
   "execution_count": 23,
   "id": "e49e82a9",
   "metadata": {
    "extensions": {
     "jupyter_dashboards": {
      "version": 1,
      "views": {
       "default_view": {
        "col": 0,
        "height": 2,
        "row": 114,
        "width": 12
       }
      }
     }
    }
   },
   "outputs": [
    {
     "name": "stdout",
     "output_type": "stream",
     "text": [
      "p-value is:  0.10948340023844266\n",
      "chi=6.044118, critical value=7.814728\n",
      "\n",
      "At 0.05 level of significance, we accept the null hypotheses. \n",
      "They are independent.\n"
     ]
    }
   ],
   "source": [
    "chi, pval, dof, exp = chi2_contingency(closeness_party)\n",
    "print('p-value is: ', pval)\n",
    "\n",
    "significance = 0.05\n",
    "p = 1 - significance\n",
    "\n",
    "critical_value = chi2.ppf(p, dof)\n",
    "print('chi=%.6f, critical value=%.6f\\n' % (chi, critical_value))\n",
    "\n",
    "if chi > critical_value:\n",
    "    print(\"\"\"At %.2f level of significance, we reject the null hypotheses and accept H1. \n",
    "They are not independent.\"\"\" % (significance))\n",
    "else:\n",
    "    print(\"\"\"At %.2f level of significance, we accept the null hypotheses. \n",
    "They are independent.\"\"\" % (significance))"
   ]
  },
  {
   "cell_type": "markdown",
   "id": "74e43905",
   "metadata": {
    "extensions": {
     "jupyter_dashboards": {
      "version": 1,
      "views": {
       "default_view": {
        "col": 0,
        "height": 2,
        "row": 116,
        "width": 12
       }
      }
     }
    }
   },
   "source": [
    "### Alternatively, we can compare the p-value and the level of significance. If p-value < the level of significance, we reject the null hypothesis."
   ]
  },
  {
   "cell_type": "code",
   "execution_count": 24,
   "id": "6f098dca",
   "metadata": {
    "extensions": {
     "jupyter_dashboards": {
      "version": 1,
      "views": {
       "default_view": {
        "col": 0,
        "height": 2,
        "row": 118,
        "width": 12
       }
      }
     }
    }
   },
   "outputs": [
    {
     "name": "stdout",
     "output_type": "stream",
     "text": [
      "p-value=0.109483, significance=0.05\n",
      "\n",
      "At 0.05 level of significance, we accept the null hypotheses. \n",
      "They are independent.\n"
     ]
    }
   ],
   "source": [
    "chi, pval, dof, exp = chi2_contingency(closeness_party)\n",
    "\n",
    "significance = 0.05\n",
    "print('p-value=%.6f, significance=%.2f\\n' % (pval, significance))\n",
    "\n",
    "if pval < significance:\n",
    "    print(\"\"\"At %.2f level of significance, we reject the null hypotheses and accept H1. \n",
    "They are not independent.\"\"\" % (significance))\n",
    "else:\n",
    "    print(\"\"\"At %.2f level of significance, we accept the null hypotheses. \n",
    "They are independent.\"\"\" % (significance))"
   ]
  },
  {
   "cell_type": "markdown",
   "id": "27424b60",
   "metadata": {
    "extensions": {
     "jupyter_dashboards": {
      "version": 1,
      "views": {
       "default_view": {
        "col": 0,
        "height": 2,
        "row": 120,
        "width": 12
       }
      }
     }
    }
   },
   "source": [
    "# Switzerland"
   ]
  },
  {
   "cell_type": "markdown",
   "id": "817b1509",
   "metadata": {
    "extensions": {
     "jupyter_dashboards": {
      "version": 1,
      "views": {
       "default_view": {
        "col": 0,
        "height": 2,
        "row": 122,
        "width": 12
       }
      }
     }
    }
   },
   "source": [
    "***"
   ]
  },
  {
   "cell_type": "markdown",
   "id": "1133ec48",
   "metadata": {
    "extensions": {
     "jupyter_dashboards": {
      "version": 1,
      "views": {
       "default_view": {
        "col": 0,
        "height": 2,
        "row": 124,
        "width": 12
       }
      }
     }
    }
   },
   "source": [
    "### We will make same analysis on Switzerland. Same steps will be implemented. Try to get familiar with them."
   ]
  },
  {
   "cell_type": "markdown",
   "id": "45f21228",
   "metadata": {
    "extensions": {
     "jupyter_dashboards": {
      "version": 1,
      "views": {
       "default_view": {
        "col": 0,
        "height": 2,
        "row": 126,
        "width": 12
       }
      }
     }
    }
   },
   "source": [
    "### We will clear missing informations again to get much more clean and logical graphs and tables."
   ]
  },
  {
   "cell_type": "code",
   "execution_count": 25,
   "id": "f7a3273c",
   "metadata": {
    "extensions": {
     "jupyter_dashboards": {
      "version": 1,
      "views": {
       "default_view": {
        "hidden": true
       }
      }
     }
    }
   },
   "outputs": [],
   "source": [
    "for i in range(len(df_dict['Switzerland']['education'])):\n",
    "    if df_dict['Switzerland']['education'][i] == 97 or df_dict['Switzerland']['education'][i] == 98 or df_dict['Switzerland']['education'][i] == 99:\n",
    "        df_dict['Switzerland']['education'][i] = -1\n",
    "    elif df_dict['Switzerland']['education'][i] == 96:\n",
    "        df_dict['Switzerland']['education'][i] = 0\n",
    "\n",
    "for i in range(len(df_dict['Switzerland']['closeness_party'])):\n",
    "    if df_dict['Switzerland']['closeness_party'][i] == 7 or df_dict['Switzerland']['closeness_party'][i] == 8 or df_dict['Switzerland']['closeness_party'][i] == 9:\n",
    "        df_dict['Switzerland']['closeness_party'][i] = -1\n",
    "\n",
    "for i in range(len(df_dict['Switzerland']['employement'])):\n",
    "    if df_dict['Switzerland']['employement'][i] == 13 or df_dict['Switzerland']['employement'][i] == 14 or df_dict['Switzerland']['employement'][i] == 97  or df_dict['Switzerland']['employement'][i] == 98  or df_dict['Switzerland']['employement'][i] == 99:\n",
    "        df_dict['Switzerland']['employement'][i] = -1"
   ]
  },
  {
   "cell_type": "markdown",
   "id": "b3c46c85",
   "metadata": {
    "extensions": {
     "jupyter_dashboards": {
      "version": 1,
      "views": {
       "default_view": {
        "col": 0,
        "height": 2,
        "row": 130,
        "width": 12
       }
      }
     }
    }
   },
   "source": [
    "### We will create a table in the following cells with gender and degree of closeness to a party in Switzerland. "
   ]
  },
  {
   "cell_type": "code",
   "execution_count": 26,
   "id": "bda74780",
   "metadata": {
    "extensions": {
     "jupyter_dashboards": {
      "version": 1,
      "views": {
       "default_view": {
        "hidden": true
       }
      }
     }
    }
   },
   "outputs": [],
   "source": [
    "count_female_s = 0\n",
    "count_male_s = 0\n",
    "\n",
    "male = [0]*4\n",
    "female = [0]*4\n",
    "for i in range(len(df_dict['Switzerland']['gender'])):\n",
    "    if df_dict['Switzerland']['closeness_party'][i] == 1:\n",
    "        if df_dict['Switzerland']['gender'][i] == 1:\n",
    "            count_male_s = count_male_s + 1;\n",
    "            male[0] = male[0] + 1\n",
    "        elif df_dict['Switzerland']['gender'][i] == 2:\n",
    "            count_female_s = count_female_s + 1\n",
    "            female[0] = female[0] + 1\n",
    "    if df_dict['Switzerland']['closeness_party'][i] == 2:\n",
    "        if df_dict['Switzerland']['gender'][i] == 1:\n",
    "            count_male_s = count_male_s + 1;\n",
    "            male[1] = male[1] + 1\n",
    "        elif df_dict['Switzerland']['gender'][i] == 2:\n",
    "            count_female_s = count_female_s + 1\n",
    "            female[1] = female[1] + 1\n",
    "    if df_dict['Switzerland']['closeness_party'][i] == 3:\n",
    "        if df_dict['Switzerland']['gender'][i] == 1:\n",
    "            count_male_s = count_male_s + 1;\n",
    "            male[2] = male[2] + 1\n",
    "        elif df_dict['Switzerland']['gender'][i] == 2:\n",
    "            count_female_s = count_female_s + 1\n",
    "            female[2] = female[2] + 1\n",
    "    if df_dict['Switzerland']['closeness_party'][i] == -1:\n",
    "        if df_dict['Switzerland']['gender'][i] == 1:\n",
    "            count_male_s = count_male_s + 1;\n",
    "            male[3] = male[3] + 1\n",
    "        elif df_dict['Switzerland']['gender'][i] == 2:\n",
    "            count_female_s = count_female_s + 1\n",
    "            female[3] = female[3] + 1\n"
   ]
  },
  {
   "cell_type": "markdown",
   "id": "3243565b",
   "metadata": {
    "extensions": {
     "jupyter_dashboards": {
      "version": 1,
      "views": {
       "default_view": {
        "col": 0,
        "height": 2,
        "row": 134,
        "width": 12
       }
      }
     }
    }
   },
   "source": [
    "### We are going to create sample data which is about gender and degree of closeness to a party in Switzerland. Pandas index and columns are used to name rows and columns."
   ]
  },
  {
   "cell_type": "code",
   "execution_count": 27,
   "id": "e3a14df9",
   "metadata": {
    "extensions": {
     "jupyter_dashboards": {
      "version": 1,
      "views": {
       "default_view": {
        "col": 0,
        "height": 2,
        "row": 136,
        "width": 12
       }
      }
     }
    }
   },
   "outputs": [
    {
     "data": {
      "text/html": [
       "<div>\n",
       "<style scoped>\n",
       "    .dataframe tbody tr th:only-of-type {\n",
       "        vertical-align: middle;\n",
       "    }\n",
       "\n",
       "    .dataframe tbody tr th {\n",
       "        vertical-align: top;\n",
       "    }\n",
       "\n",
       "    .dataframe thead th {\n",
       "        text-align: right;\n",
       "    }\n",
       "</style>\n",
       "<table border=\"1\" class=\"dataframe\">\n",
       "  <thead>\n",
       "    <tr style=\"text-align: right;\">\n",
       "      <th></th>\n",
       "      <th>Very Close</th>\n",
       "      <th>Somewhat Close</th>\n",
       "      <th>Not very Close</th>\n",
       "      <th>Missing/No Info</th>\n",
       "    </tr>\n",
       "  </thead>\n",
       "  <tbody>\n",
       "    <tr>\n",
       "      <th>Male</th>\n",
       "      <td>212</td>\n",
       "      <td>1078</td>\n",
       "      <td>579</td>\n",
       "      <td>436</td>\n",
       "    </tr>\n",
       "    <tr>\n",
       "      <th>Female</th>\n",
       "      <td>153</td>\n",
       "      <td>989</td>\n",
       "      <td>581</td>\n",
       "      <td>617</td>\n",
       "    </tr>\n",
       "  </tbody>\n",
       "</table>\n",
       "</div>"
      ],
      "text/plain": [
       "        Very Close  Somewhat Close  Not very Close  Missing/No Info\n",
       "Male           212            1078             579              436\n",
       "Female         153             989             581              617"
      ]
     },
     "execution_count": 27,
     "metadata": {},
     "output_type": "execute_result"
    }
   ],
   "source": [
    "closeness_party = pd.DataFrame(\n",
    "    [\n",
    "        male,\n",
    "        female\n",
    "    ],\n",
    "    index=[\"Male\",\"Female\"],\n",
    "    columns=[\"Very Close\",\"Somewhat Close\",\"Not very Close\",\"Missing/No Info\"])\n",
    "\n",
    "closeness_party"
   ]
  },
  {
   "cell_type": "markdown",
   "id": "14065d92",
   "metadata": {
    "extensions": {
     "jupyter_dashboards": {
      "version": 1,
      "views": {
       "default_view": {
        "col": 0,
        "height": 2,
        "row": 138,
        "width": 12
       }
      }
     }
    }
   },
   "source": [
    "### Python uses zero-based indexing. That means, the first element has an index 0, the second has index 1, and so on. If you want to access the fourth value in the chi2_contingency(closeness_party) you need to use [3]."
   ]
  },
  {
   "cell_type": "markdown",
   "id": "81ac8d43",
   "metadata": {
    "extensions": {
     "jupyter_dashboards": {
      "version": 1,
      "views": {
       "default_view": {
        "col": 0,
        "height": 2,
        "row": 140,
        "width": 12
       }
      }
     }
    }
   },
   "source": [
    "# chi2_contingency"
   ]
  },
  {
   "cell_type": "markdown",
   "id": "ff374f6b",
   "metadata": {
    "extensions": {
     "jupyter_dashboards": {
      "version": 1,
      "views": {
       "default_view": {
        "col": 0,
        "height": 2,
        "row": 142,
        "width": 12
       }
      }
     }
    }
   },
   "source": [
    "### ciPy’s chi2_contingency() returns four values, 𝜒2 value, p-value, degree of freedom and expected values."
   ]
  },
  {
   "cell_type": "code",
   "execution_count": 28,
   "id": "d7dcbd62",
   "metadata": {
    "extensions": {
     "jupyter_dashboards": {
      "version": 1,
      "views": {
       "default_view": {
        "col": 0,
        "height": 2,
        "row": 144,
        "width": 12
       }
      }
     }
    }
   },
   "outputs": [
    {
     "data": {
      "text/plain": [
       "(44.223405599340765,\n",
       " 1.3529532990376792e-09,\n",
       " 3,\n",
       " array([[ 181.12486545, 1025.71259419,  575.62970936,  522.532831  ],\n",
       "        [ 183.87513455, 1041.28740581,  584.37029064,  530.467169  ]]))"
      ]
     },
     "execution_count": 28,
     "metadata": {},
     "output_type": "execute_result"
    }
   ],
   "source": [
    "chi2_contingency(closeness_party)"
   ]
  },
  {
   "cell_type": "markdown",
   "id": "f97828f0",
   "metadata": {
    "extensions": {
     "jupyter_dashboards": {
      "version": 1,
      "views": {
       "default_view": {
        "col": 0,
        "height": 2,
        "row": 146,
        "width": 12
       }
      }
     }
    }
   },
   "source": [
    "# Expected values"
   ]
  },
  {
   "cell_type": "markdown",
   "id": "960952ee",
   "metadata": {
    "extensions": {
     "jupyter_dashboards": {
      "version": 1,
      "views": {
       "default_view": {
        "col": 0,
        "height": 2,
        "row": 148,
        "width": 12
       }
      }
     }
    }
   },
   "source": [
    "### You can find the expected values at the forth in the returned value. It is in an array form. Let’s print the expected values. We again use the Pandas dataframe. We are going to add index and column values and round the values to the two decimal places round(2)."
   ]
  },
  {
   "cell_type": "code",
   "execution_count": 29,
   "id": "9dda09de",
   "metadata": {
    "extensions": {
     "jupyter_dashboards": {
      "version": 1,
      "views": {
       "default_view": {
        "col": 0,
        "height": 2,
        "row": 150,
        "width": 12
       }
      }
     }
    }
   },
   "outputs": [
    {
     "data": {
      "text/html": [
       "<div>\n",
       "<style scoped>\n",
       "    .dataframe tbody tr th:only-of-type {\n",
       "        vertical-align: middle;\n",
       "    }\n",
       "\n",
       "    .dataframe tbody tr th {\n",
       "        vertical-align: top;\n",
       "    }\n",
       "\n",
       "    .dataframe thead th {\n",
       "        text-align: right;\n",
       "    }\n",
       "</style>\n",
       "<table border=\"1\" class=\"dataframe\">\n",
       "  <thead>\n",
       "    <tr style=\"text-align: right;\">\n",
       "      <th></th>\n",
       "      <th>Very Close</th>\n",
       "      <th>Somewhat Close</th>\n",
       "      <th>Not very Close</th>\n",
       "      <th>Missing/No Info</th>\n",
       "    </tr>\n",
       "  </thead>\n",
       "  <tbody>\n",
       "    <tr>\n",
       "      <th>Male</th>\n",
       "      <td>181.12</td>\n",
       "      <td>1025.71</td>\n",
       "      <td>575.63</td>\n",
       "      <td>522.53</td>\n",
       "    </tr>\n",
       "    <tr>\n",
       "      <th>Female</th>\n",
       "      <td>183.88</td>\n",
       "      <td>1041.29</td>\n",
       "      <td>584.37</td>\n",
       "      <td>530.47</td>\n",
       "    </tr>\n",
       "  </tbody>\n",
       "</table>\n",
       "</div>"
      ],
      "text/plain": [
       "        Very Close  Somewhat Close  Not very Close  Missing/No Info\n",
       "Male        181.12         1025.71          575.63           522.53\n",
       "Female      183.88         1041.29          584.37           530.47"
      ]
     },
     "execution_count": 29,
     "metadata": {},
     "output_type": "execute_result"
    }
   ],
   "source": [
    "df=chi2_contingency(closeness_party)[3]\n",
    "\n",
    "pd.DataFrame(\n",
    "    data=df[:,:], \n",
    "    index=[\"Male\",\"Female\"],\n",
    "    columns=[\"Very Close\",\"Somewhat Close\",\"Not very Close\",\"Missing/No Info\"]).round(2)"
   ]
  },
  {
   "cell_type": "markdown",
   "id": "305d381f",
   "metadata": {
    "extensions": {
     "jupyter_dashboards": {
      "version": 1,
      "views": {
       "default_view": {
        "col": 0,
        "height": 2,
        "row": 152,
        "width": 12
       }
      }
     }
    }
   },
   "source": [
    "### The above table is called a contingency table. You calculate the expected values from the observed data using the following equation."
   ]
  },
  {
   "cell_type": "markdown",
   "id": "07817a2d",
   "metadata": {
    "extensions": {
     "jupyter_dashboards": {
      "version": 1,
      "views": {
       "default_view": {
        "col": 0,
        "height": 2,
        "row": 154,
        "width": 12
       }
      }
     }
    }
   },
   "source": [
    "# 𝜒2 value"
   ]
  },
  {
   "cell_type": "markdown",
   "id": "bfa4b484",
   "metadata": {
    "extensions": {
     "jupyter_dashboards": {
      "version": 1,
      "views": {
       "default_view": {
        "col": 0,
        "height": 2,
        "row": 156,
        "width": 12
       }
      }
     }
    }
   },
   "source": [
    "### The 𝜒2 equation tells us to find the square of the difference between the actual value and expected value and divide it by the expected value. This is what chi2_contingency is doing behind the scene. Since Python is 0 based index, in order to print the 𝜒2 we need to use [0] which is the first value."
   ]
  },
  {
   "cell_type": "code",
   "execution_count": 30,
   "id": "3f1c2a9f",
   "metadata": {
    "extensions": {
     "jupyter_dashboards": {
      "version": 1,
      "views": {
       "default_view": {
        "col": 0,
        "height": 2,
        "row": 158,
        "width": 12
       }
      }
     }
    }
   },
   "outputs": [
    {
     "data": {
      "text/plain": [
       "44.223405599340765"
      ]
     },
     "execution_count": 30,
     "metadata": {},
     "output_type": "execute_result"
    }
   ],
   "source": [
    "chisquare=chi2_contingency(closeness_party)[0]\n",
    "\n",
    "chisquare"
   ]
  },
  {
   "cell_type": "markdown",
   "id": "11c9a703",
   "metadata": {
    "extensions": {
     "jupyter_dashboards": {
      "version": 1,
      "views": {
       "default_view": {
        "col": 0,
        "height": 2,
        "row": 160,
        "width": 12
       }
      }
     }
    }
   },
   "source": [
    "# p-Value"
   ]
  },
  {
   "cell_type": "markdown",
   "id": "941c360b",
   "metadata": {
    "extensions": {
     "jupyter_dashboards": {
      "version": 1,
      "views": {
       "default_view": {
        "col": 0,
        "height": 2,
        "row": 162,
        "width": 12
       }
      }
     }
    }
   },
   "source": [
    "### You can find the p-value at the second in the returned value. p-value measures the probability of seeing the effect when the null hypothesis is true. So, when the p-value is low enough, we reject the null hypothesis and conclude the observed effect holds."
   ]
  },
  {
   "cell_type": "code",
   "execution_count": 31,
   "id": "75ec194f",
   "metadata": {
    "extensions": {
     "jupyter_dashboards": {
      "version": 1,
      "views": {
       "default_view": {
        "col": 0,
        "height": 2,
        "row": 164,
        "width": 12
       }
      }
     }
    }
   },
   "outputs": [
    {
     "data": {
      "text/plain": [
       "1.3529532990376792e-09"
      ]
     },
     "execution_count": 31,
     "metadata": {},
     "output_type": "execute_result"
    }
   ],
   "source": [
    "pvalue=chi2_contingency(closeness_party)[1]\n",
    "\n",
    "pvalue"
   ]
  },
  {
   "cell_type": "markdown",
   "id": "ea371917",
   "metadata": {
    "extensions": {
     "jupyter_dashboards": {
      "version": 1,
      "views": {
       "default_view": {
        "col": 0,
        "height": 2,
        "row": 166,
        "width": 12
       }
      }
     }
    }
   },
   "source": [
    "# Degree of freedom"
   ]
  },
  {
   "cell_type": "markdown",
   "id": "720d2843",
   "metadata": {
    "extensions": {
     "jupyter_dashboards": {
      "version": 1,
      "views": {
       "default_view": {
        "col": 0,
        "height": 2,
        "row": 168,
        "width": 12
       }
      }
     }
    }
   },
   "source": [
    "### In the returned value from the chi2_contingency, the third one is the degree of freedom. We use [2] which is the third one. The following will output 3."
   ]
  },
  {
   "cell_type": "code",
   "execution_count": 32,
   "id": "24fc64cb",
   "metadata": {
    "extensions": {
     "jupyter_dashboards": {
      "version": 1,
      "views": {
       "default_view": {
        "col": 0,
        "height": 2,
        "row": 170,
        "width": 12
       }
      }
     }
    }
   },
   "outputs": [
    {
     "data": {
      "text/plain": [
       "3"
      ]
     },
     "execution_count": 32,
     "metadata": {},
     "output_type": "execute_result"
    }
   ],
   "source": [
    "dof=chi2_contingency(closeness_party)[2]\n",
    "\n",
    "dof"
   ]
  },
  {
   "cell_type": "markdown",
   "id": "5bea1c74",
   "metadata": {
    "extensions": {
     "jupyter_dashboards": {
      "version": 1,
      "views": {
       "default_view": {
        "col": 0,
        "height": 2,
        "row": 172,
        "width": 12
       }
      }
     }
    }
   },
   "source": [
    "# Critical values"
   ]
  },
  {
   "cell_type": "markdown",
   "id": "b9d84b7f",
   "metadata": {
    "extensions": {
     "jupyter_dashboards": {
      "version": 1,
      "views": {
       "default_view": {
        "col": 0,
        "height": 2,
        "row": 174,
        "width": 12
       }
      }
     }
    }
   },
   "source": [
    "### The level of significance and degree of freedom can be used to find the critical value. As I mentioned, you can find the degree of freedom from the array. State and define probability from the level of significance, 1%, 5% 10%, etc."
   ]
  },
  {
   "cell_type": "code",
   "execution_count": 33,
   "id": "0bf4bc34",
   "metadata": {
    "extensions": {
     "jupyter_dashboards": {
      "version": 1,
      "views": {
       "default_view": {
        "col": 0,
        "height": 2,
        "row": 176,
        "width": 12
       }
      }
     }
    }
   },
   "outputs": [
    {
     "data": {
      "text/plain": [
       "11.344866730144373"
      ]
     },
     "execution_count": 33,
     "metadata": {},
     "output_type": "execute_result"
    }
   ],
   "source": [
    "significance = 0.01\n",
    "p = 1 - significance\n",
    "dof = chi2_contingency(closeness_party)[2]\n",
    "critical_value = chi2.ppf(p, dof)\n",
    "\n",
    "critical_value"
   ]
  },
  {
   "cell_type": "markdown",
   "id": "1c18e8d3",
   "metadata": {
    "extensions": {
     "jupyter_dashboards": {
      "version": 1,
      "views": {
       "default_view": {
        "col": 0,
        "height": 2,
        "row": 178,
        "width": 12
       }
      }
     }
    }
   },
   "source": [
    "### Let's check the p by using the critical value that we calculated."
   ]
  },
  {
   "cell_type": "code",
   "execution_count": 34,
   "id": "bb3a86bc",
   "metadata": {
    "extensions": {
     "jupyter_dashboards": {
      "version": 1,
      "views": {
       "default_view": {
        "col": 0,
        "height": 2,
        "row": 180,
        "width": 12
       }
      }
     }
    }
   },
   "outputs": [
    {
     "data": {
      "text/plain": [
       "0.99"
      ]
     },
     "execution_count": 34,
     "metadata": {},
     "output_type": "execute_result"
    }
   ],
   "source": [
    "p = chi2.cdf(critical_value, dof)\n",
    "\n",
    "p"
   ]
  },
  {
   "cell_type": "markdown",
   "id": "64a62b91",
   "metadata": {
    "extensions": {
     "jupyter_dashboards": {
      "version": 1,
      "views": {
       "default_view": {
        "col": 0,
        "height": 2,
        "row": 182,
        "width": 12
       }
      }
     }
    }
   },
   "source": [
    "### Which confirms the critical value. [ 1-0.01 ]"
   ]
  },
  {
   "cell_type": "markdown",
   "id": "93feb5f9",
   "metadata": {
    "extensions": {
     "jupyter_dashboards": {
      "version": 1,
      "views": {
       "default_view": {
        "col": 0,
        "height": 2,
        "row": 184,
        "width": 12
       }
      }
     }
    }
   },
   "source": [
    "# The Null and Alternative Hypotheses"
   ]
  },
  {
   "cell_type": "markdown",
   "id": "953b52b5",
   "metadata": {
    "extensions": {
     "jupyter_dashboards": {
      "version": 1,
      "views": {
       "default_view": {
        "col": 0,
        "height": 2,
        "row": 186,
        "width": 12
       }
      }
     }
    }
   },
   "source": [
    "### Chi-square test requires to state the null hypothesis, H0, and the alternative hypothesis, H1. The null hypothesis is the statement that our two variables are independent. The alternative hypothesis is the statement that they are not independent."
   ]
  },
  {
   "cell_type": "markdown",
   "id": "458d9fb8",
   "metadata": {
    "extensions": {
     "jupyter_dashboards": {
      "version": 1,
      "views": {
       "default_view": {
        "col": 0,
        "height": 2,
        "row": 188,
        "width": 12
       }
      }
     }
    }
   },
   "source": [
    "### If the calculated Chi-square is greater than the critical value we reject the null hypothesis.\n"
   ]
  },
  {
   "cell_type": "code",
   "execution_count": 35,
   "id": "24f70df1",
   "metadata": {
    "extensions": {
     "jupyter_dashboards": {
      "version": 1,
      "views": {
       "default_view": {
        "col": 0,
        "height": 2,
        "row": 190,
        "width": 12
       }
      }
     }
    }
   },
   "outputs": [
    {
     "name": "stdout",
     "output_type": "stream",
     "text": [
      "p-value is:  1.3529532990376792e-09\n",
      "chi=44.223406, critical value=11.344867\n",
      "\n",
      "At 0.01 level of significance, we reject the null hypotheses and accept H1. \n",
      "They are not independent.\n"
     ]
    }
   ],
   "source": [
    "chi, pval, dof, exp = chi2_contingency(closeness_party)\n",
    "print('p-value is: ', pval)\n",
    "\n",
    "significance = 0.01\n",
    "p = 1 - significance\n",
    "\n",
    "critical_value = chi2.ppf(p, dof)\n",
    "print('chi=%.6f, critical value=%.6f\\n' % (chi, critical_value))\n",
    "\n",
    "if chi > critical_value:\n",
    "    print(\"\"\"At %.2f level of significance, we reject the null hypotheses and accept H1. \n",
    "They are not independent.\"\"\" % (significance))\n",
    "else:\n",
    "    print(\"\"\"At %.2f level of significance, we accept the null hypotheses. \n",
    "They are independent.\"\"\" % (significance))"
   ]
  },
  {
   "cell_type": "markdown",
   "id": "2608d4e5",
   "metadata": {
    "extensions": {
     "jupyter_dashboards": {
      "version": 1,
      "views": {
       "default_view": {
        "col": 0,
        "height": 2,
        "row": 192,
        "width": 12
       }
      }
     }
    }
   },
   "source": [
    "### Alternatively, we can compare the p-value and the level of significance. If p-value < the level of significance, we reject the null hypothesis."
   ]
  },
  {
   "cell_type": "code",
   "execution_count": 36,
   "id": "b2ad72ab",
   "metadata": {
    "extensions": {
     "jupyter_dashboards": {
      "version": 1,
      "views": {
       "default_view": {
        "col": 0,
        "height": 2,
        "row": 194,
        "width": 12
       }
      }
     }
    }
   },
   "outputs": [
    {
     "name": "stdout",
     "output_type": "stream",
     "text": [
      "p-value=0.000000, significance=0.01\n",
      "\n",
      "At 0.01 level of significance, we reject the null hypotheses and accept H1. \n",
      "They are not independent.\n"
     ]
    }
   ],
   "source": [
    "chi, pval, dof, exp = chi2_contingency(closeness_party)\n",
    "\n",
    "significance = 0.01\n",
    "print('p-value=%.6f, significance=%.2f\\n' % (pval, significance))\n",
    "\n",
    "if pval < significance:\n",
    "    print(\"\"\"At %.2f level of significance, we reject the null hypotheses and accept H1. \n",
    "They are not independent.\"\"\" % (significance))\n",
    "else:\n",
    "    print(\"\"\"At %.2f level of significance, we accept the null hypotheses. \n",
    "They are independent.\"\"\" % (significance))"
   ]
  },
  {
   "cell_type": "markdown",
   "id": "8cc59993",
   "metadata": {
    "extensions": {
     "jupyter_dashboards": {
      "version": 1,
      "views": {
       "default_view": {
        "col": 0,
        "height": 2,
        "row": 196,
        "width": 12
       }
      }
     }
    }
   },
   "source": []
  },
  {
   "cell_type": "markdown",
   "id": "f041a7ac",
   "metadata": {
    "extensions": {
     "jupyter_dashboards": {
      "version": 1,
      "views": {
       "default_view": {
        "col": 0,
        "height": 2,
        "row": 198,
        "width": 12
       }
      }
     }
    }
   },
   "source": [
    "# Interactive Graphs for The Null and Alternative Hypotheses"
   ]
  },
  {
   "cell_type": "markdown",
   "id": "89f3e780",
   "metadata": {
    "extensions": {
     "jupyter_dashboards": {
      "version": 1,
      "views": {
       "default_view": {
        "col": 0,
        "height": 2,
        "row": 200,
        "width": 12
       }
      }
     }
    }
   },
   "source": [
    "***"
   ]
  },
  {
   "cell_type": "markdown",
   "id": "d8518472",
   "metadata": {
    "extensions": {
     "jupyter_dashboards": {
      "version": 1,
      "views": {
       "default_view": {
        "col": 0,
        "height": 2,
        "row": 202,
        "width": 12
       }
      }
     }
    }
   },
   "source": [
    "### We will add another country with an average turnout value in this stage of the project. Our goal is creating interactive widgets to increase the understanding."
   ]
  },
  {
   "cell_type": "markdown",
   "id": "a12879b0",
   "metadata": {
    "extensions": {
     "jupyter_dashboards": {
      "version": 1,
      "views": {
       "default_view": {
        "col": 0,
        "height": 2,
        "row": 204,
        "width": 12
       }
      }
     }
    }
   },
   "source": [
    "### In order to create interactive widgets, we will be using ipywidgets. "
   ]
  },
  {
   "cell_type": "code",
   "execution_count": 37,
   "id": "cae7f9d7",
   "metadata": {
    "extensions": {
     "jupyter_dashboards": {
      "version": 1,
      "views": {
       "default_view": {
        "hidden": true
       }
      }
     }
    }
   },
   "outputs": [],
   "source": [
    "import ipywidgets as widgets"
   ]
  },
  {
   "cell_type": "markdown",
   "id": "e7d85bbb",
   "metadata": {
    "extensions": {
     "jupyter_dashboards": {
      "version": 1,
      "views": {
       "default_view": {
        "col": 0,
        "height": 2,
        "row": 208,
        "width": 12
       }
      }
     }
    }
   },
   "source": [
    "### In the following interactive widget, we will observe the null and alternative hypotheses on chi-square distribution. We will use three different countries which will be selectable. Also user can select the sigificance of the test"
   ]
  },
  {
   "cell_type": "markdown",
   "id": "53c848f8",
   "metadata": {
    "extensions": {
     "jupyter_dashboards": {
      "version": 1,
      "views": {
       "default_view": {
        "col": 0,
        "height": 2,
        "row": 210,
        "width": 12
       }
      }
     }
    }
   },
   "source": [
    "### A table with labels and a graph with rejection region indicated will be generated. Also a final decision will be written at the below of the plot."
   ]
  },
  {
   "cell_type": "markdown",
   "id": "ff550ffc",
   "metadata": {
    "extensions": {
     "jupyter_dashboards": {
      "version": 1,
      "views": {
       "default_view": {
        "col": 0,
        "height": 2,
        "row": 212,
        "width": 12
       }
      }
     }
    }
   },
   "source": [
    "### User can observe the differences clearly by changing countries and significance values."
   ]
  },
  {
   "cell_type": "code",
   "execution_count": 38,
   "id": "a13a2924",
   "metadata": {
    "extensions": {
     "jupyter_dashboards": {
      "version": 1,
      "views": {
       "default_view": {
        "col": 0,
        "height": 2,
        "row": 214,
        "width": 12
       }
      }
     }
    }
   },
   "outputs": [
    {
     "data": {
      "application/vnd.jupyter.widget-view+json": {
       "model_id": "02e73dbf389a416da2809950ba5fa3c0",
       "version_major": 2,
       "version_minor": 0
      },
      "text/plain": [
       "interactive(children=(Dropdown(description='Country:', options=('Turkey', 'Switzerland', 'Portugal'), value='T…"
      ]
     },
     "metadata": {},
     "output_type": "display_data"
    }
   ],
   "source": [
    "aa = widgets.Dropdown(\n",
    "    options=['0.05', '0.01', '0.001'],\n",
    "    value='0.05',\n",
    "    description='Significance:',\n",
    "    disabled=False,\n",
    "    continuous_update=False\n",
    ")\n",
    "\n",
    "bb = widgets.Dropdown(\n",
    "    options=['Turkey', 'Switzerland', 'Portugal'],\n",
    "    value='Turkey',\n",
    "    description='Country:',\n",
    "    disabled=False,\n",
    "    continuous_update=False\n",
    ")\n",
    "\n",
    "\n",
    "\n",
    "\n",
    "def chi_squ(country,value):\n",
    "    if value == '0.05':\n",
    "        significance = 0.05\n",
    "    elif value == '0.01':\n",
    "        significance = 0.01\n",
    "    elif value == '0.001':\n",
    "        significance = 0.001\n",
    "\n",
    "    for i in range(len(df_dict[country]['education'])):\n",
    "        if df_dict[country]['education'][i] == 97 or df_dict[country]['education'][i] == 98 or df_dict[country]['education'][i] == 99:\n",
    "            df_dict[country]['education'][i] = -1\n",
    "        elif df_dict[country]['education'][i] == 96:\n",
    "            df_dict[country]['education'][i] = 0\n",
    "\n",
    "    for i in range(len(df_dict[country]['closeness_party'])):\n",
    "        if df_dict[country]['closeness_party'][i] == 7 or df_dict[country]['closeness_party'][i] == 8 or df_dict[country]['closeness_party'][i] == 9:\n",
    "            df_dict[country]['closeness_party'][i] = -1\n",
    "\n",
    "    for i in range(len(df_dict[country]['employement'])):\n",
    "        if df_dict[country]['employement'][i] == 13 or df_dict[country]['employement'][i] == 14 or df_dict[country]['employement'][i] == 97  or df_dict[country]['employement'][i] == 98  or df_dict[country]['employement'][i] == 99:\n",
    "            df_dict[country]['employement'][i] = -1\n",
    "    \n",
    "    count_female_t = 0\n",
    "    count_male_t = 0\n",
    "\n",
    "    male = [0]*4\n",
    "    female = [0]*4\n",
    "    for i in range(len(df_dict[country]['gender'])):\n",
    "        if df_dict[country]['closeness_party'][i] == 1:\n",
    "            if df_dict[country]['gender'][i] == 1:\n",
    "                count_male_t = count_male_t + 1;\n",
    "                male[0] = male[0] + 1\n",
    "            elif df_dict[country]['gender'][i] == 2:\n",
    "                count_female_t = count_female_t + 1\n",
    "                female[0] = female[0] + 1\n",
    "        if df_dict[country]['closeness_party'][i] == 2:\n",
    "            if df_dict[country]['gender'][i] == 1:\n",
    "                count_male_t = count_male_t + 1;\n",
    "                male[1] = male[1] + 1\n",
    "            elif df_dict[country]['gender'][i] == 2:\n",
    "                count_female_t = count_female_t + 1\n",
    "                female[1] = female[1] + 1\n",
    "        if df_dict[country]['closeness_party'][i] == 3:\n",
    "            if df_dict[country]['gender'][i] == 1:\n",
    "                count_male_t = count_male_t + 1;\n",
    "                male[2] = male[2] + 1\n",
    "            elif df_dict[country]['gender'][i] == 2:\n",
    "                count_female_t = count_female_t + 1\n",
    "                female[2] = female[2] + 1\n",
    "        if df_dict[country]['closeness_party'][i] == -1:\n",
    "            if df_dict[country]['gender'][i] == 1:\n",
    "                count_male_t = count_male_t + 1;\n",
    "                male[3] = male[3] + 1\n",
    "            elif df_dict[country]['gender'][i] == 2:\n",
    "                count_female_t = count_female_t + 1\n",
    "                female[3] = female[3] + 1\n",
    "    \n",
    "    closeness_party = pd.DataFrame(\n",
    "    [\n",
    "        male,\n",
    "        female\n",
    "    ],\n",
    "    index=[\"Male\",\"Female\"],\n",
    "    columns=[\"Very Close\",\"Somewhat Close\",\"Not very Close\",\"Missing/No Info\"])\n",
    "    \n",
    "    display(closeness_party)\n",
    "    \n",
    "    chi, pval, dof, exp = chi2_contingency(closeness_party)\n",
    "    print('p-value is: ', pval)\n",
    "\n",
    "    p = 1 - significance\n",
    "\n",
    "    critical_value = chi2.ppf(p, dof)\n",
    "    print('chi=%.6f, critical value=%.6f\\n' % (chi, critical_value))\n",
    "\n",
    "    if chi > critical_value:\n",
    "        text = \"\"\"At %.3f level of significance, we reject the null hypotheses and accept H1. \n",
    "    They are not independent.\"\"\" % (significance)\n",
    "    else:\n",
    "        text = \"\"\"At %.3f level of significance, we accept the null hypotheses. \n",
    "    They are independent.\"\"\" % (significance)\n",
    "        \n",
    "    x = np.arange(0, 50, 0.001)\n",
    "\n",
    "    #plot Chi-square distribution with 3 degrees of freedom\n",
    "    a = chi2.pdf(x, df=dof)\n",
    "\n",
    "    plt.figure(figsize=(13, 7))\n",
    "    plt.plot(x, a)\n",
    "    plt.axvline(critical_value, 0, 1, color ='gray',linestyle='--', label='Critical Point : %.2f'%critical_value)\n",
    "    plt.axvline(chi, 0, 1, color ='red',linestyle=':', label='Chi : %.2f'%chi)\n",
    "    plt.text( critical_value, 0.05, '--> Reject H0', fontsize=15, color ='gray')\n",
    "    plt.suptitle(\"H0: Gender and degree to closeness are independent in %s\"%(country), fontsize=17)\n",
    "    plt.xlabel(text, fontsize=15)\n",
    "    plt.legend()\n",
    "    \n",
    "    \n",
    "    \n",
    "\n",
    "widgets.interact(chi_squ, value=aa, country=bb);"
   ]
  },
  {
   "cell_type": "markdown",
   "id": "ddb481eb",
   "metadata": {
    "extensions": {
     "jupyter_dashboards": {
      "version": 1,
      "views": {
       "default_view": {
        "col": 0,
        "height": 2,
        "row": 216,
        "width": 12
       }
      }
     }
    }
   },
   "source": [
    "# Conclusion of Chi Square "
   ]
  },
  {
   "cell_type": "markdown",
   "id": "59b2de03",
   "metadata": {
    "extensions": {
     "jupyter_dashboards": {
      "version": 1,
      "views": {
       "default_view": {
        "col": 0,
        "height": 2,
        "row": 218,
        "width": 12
       }
      }
     }
    }
   },
   "source": [
    "***"
   ]
  },
  {
   "cell_type": "markdown",
   "id": "a0aa1240",
   "metadata": {
    "extensions": {
     "jupyter_dashboards": {
      "version": 1,
      "views": {
       "default_view": {
        "col": 0,
        "height": 2,
        "row": 220,
        "width": 12
       }
      }
     }
    }
   },
   "source": [
    "### As we can see, we observe different results in Switzerland and Turkey in terms of independency between gender and closeness to a party."
   ]
  },
  {
   "cell_type": "markdown",
   "id": "f5bc4f38",
   "metadata": {
    "extensions": {
     "jupyter_dashboards": {
      "version": 1,
      "views": {
       "default_view": {
        "col": 0,
        "height": 2,
        "row": 222,
        "width": 12
       }
      }
     }
    }
   },
   "source": [
    "### In Turkey, gender and closeness to a party are independent but in Switzerland they are not."
   ]
  },
  {
   "cell_type": "markdown",
   "id": "32c0cc14",
   "metadata": {
    "extensions": {
     "jupyter_dashboards": {
      "version": 1,
      "views": {
       "default_view": {
        "col": 0,
        "height": 2,
        "row": 224,
        "width": 12
       }
      }
     }
    }
   },
   "source": [
    "### Similiar analysis can be made and observe between different columns of the data, for instance employemnt and educational status. The only thing different than the code above is column name. Change gender and closeness_party."
   ]
  },
  {
   "cell_type": "markdown",
   "id": "d2cf5106",
   "metadata": {
    "extensions": {
     "jupyter_dashboards": {
      "version": 1,
      "views": {
       "default_view": {
        "col": 0,
        "height": 2,
        "row": 226,
        "width": 12
       }
      }
     }
    }
   },
   "source": [
    "# Hypothesis Testing Plots and z-tests"
   ]
  },
  {
   "cell_type": "markdown",
   "id": "e943fa12",
   "metadata": {
    "extensions": {
     "jupyter_dashboards": {
      "version": 1,
      "views": {
       "default_view": {
        "col": 0,
        "height": 2,
        "row": 228,
        "width": 12
       }
      }
     }
    }
   },
   "source": [
    "***"
   ]
  },
  {
   "cell_type": "markdown",
   "id": "a4bd7a57",
   "metadata": {},
   "source": [
    "### Again we are using the widgets to create interactive plots."
   ]
  },
  {
   "cell_type": "markdown",
   "id": "08d60746",
   "metadata": {},
   "source": [
    "### For a one-tail test, the critical region can be on the left or right side of the distribution. The critical region defines statistically unlikely values."
   ]
  },
  {
   "cell_type": "markdown",
   "id": "e2f3c294",
   "metadata": {},
   "source": [
    "### The probability values initially decided upon in hypothesis tests are called α levels and all are unlikely occurences. I call it unlikely because this sample mean likely didn't occur by random chance. There may have been an effect on that sample mean."
   ]
  },
  {
   "cell_type": "markdown",
   "id": "4bf2b97a",
   "metadata": {},
   "source": [
    "### With a sampling distribution, a z-score of roughly 1.645 has an area under the curve to the left of the z-value of 0.95 (95% probability). Any z-score greater than 1.645 means you're unlikely to sample such a sample from the sampling distribution given an alpha of 0.05. The region to the right of that z-value is called the critical region. In this instance, the z-score of 1.645 is called the z-critical value."
   ]
  },
  {
   "cell_type": "markdown",
   "id": "52092476",
   "metadata": {},
   "source": [
    "### In the following interactive plot, the user can change the α levels and countries to observe the differences."
   ]
  },
  {
   "cell_type": "code",
   "execution_count": 39,
   "id": "25c4beb8",
   "metadata": {
    "extensions": {
     "jupyter_dashboards": {
      "version": 1,
      "views": {
       "default_view": {
        "col": 0,
        "height": 2,
        "row": 232,
        "width": 12
       }
      }
     }
    }
   },
   "outputs": [
    {
     "data": {
      "application/vnd.jupyter.widget-view+json": {
       "model_id": "8a63f6635f0945a9a923ad17949dd0ff",
       "version_major": 2,
       "version_minor": 0
      },
      "text/plain": [
       "interactive(children=(Dropdown(description='Country:', options=('Turkey', 'Switzerland', 'Portugal'), value='T…"
      ]
     },
     "metadata": {},
     "output_type": "display_data"
    }
   ],
   "source": [
    "a = widgets.Dropdown(\n",
    "    options=['0.05', '0.01', '0.001'],\n",
    "    value='0.05',\n",
    "    description='α level:',\n",
    "    disabled=False,\n",
    "    continuous_update=False\n",
    ")\n",
    "\n",
    "b = widgets.Dropdown(\n",
    "    options=['Turkey', 'Switzerland', 'Portugal'],\n",
    "    value='Turkey',\n",
    "    description='Country:',\n",
    "    disabled=False,\n",
    "    continuous_update=False\n",
    ")\n",
    "\n",
    "\n",
    "c = widgets.Dropdown(\n",
    "    options=['one-tail', 'two-tail'],\n",
    "    value='one-tail',\n",
    "    description='Test:',\n",
    "    disabled=False,\n",
    "    continuous_update=False\n",
    ")\n",
    "\n",
    "def two_tail(country,tail,value):\n",
    "    \n",
    "    values_2 = np.array(df_dict[country]['turnout'])\n",
    "    plt.figure()\n",
    "    \n",
    "    if tail == 'one-tail':\n",
    "        if value == '0.05':\n",
    "            mult = 1.645\n",
    "        elif value == '0.01':\n",
    "            mult = 2.33\n",
    "        elif value == '0.001':\n",
    "            mult = 3.1\n",
    "        two_std_from_mean = np.mean(values_2) + np.std(values_2)*mult\n",
    "        kde = stats.gaussian_kde(values_2)\n",
    "        pos = np.linspace(np.min(values_2)-10, np.max(values_2)+10, 10000)\n",
    "        plt.plot(pos, kde(pos), color='teal')\n",
    "\n",
    "        shade = np.linspace(two_std_from_mean, np.max(values_2)+10, 300)\n",
    "        plt.fill_between(shade, kde(shade), alpha=0.45, color='teal')\n",
    "\n",
    "        plt.axvline(two_std_from_mean, 0, 1, color ='gray',linestyle='--')\n",
    "\n",
    "        plt.title(\"Turnout Distribution in Switzerland for One-Tail Hypothesis Test\", y=1.015, fontsize=15)\n",
    "        plt.xlabel(\"turnout\", labelpad=14)\n",
    "        plt.ylabel(\"frequency of occurence\", labelpad=14)\n",
    "    \n",
    "    elif tail == 'two-tail':\n",
    "        if value == '0.05':\n",
    "            mult = 1.96\n",
    "        elif value == '0.01':\n",
    "            mult = 2.575\n",
    "        elif value == '0.001':\n",
    "            mult = 3.29\n",
    "        \n",
    "        alpha_05_positive = np.mean(values_2) + np.std(values_2)*mult\n",
    "        alpha_05_negative = np.mean(values_2) - np.std(values_2)*mult\n",
    "        kde = stats.gaussian_kde(values_2)\n",
    "        pos = np.linspace(np.min(values_2)-10, np.max(values_2)+10, 10000)\n",
    "        \n",
    "        plt.plot(pos, kde(pos), color='dodgerblue')\n",
    "\n",
    "        shade = np.linspace(alpha_05_positive, np.max(values_2)+10, 300)\n",
    "        plt.fill_between(shade, kde(shade), alpha=0.45, color='dodgerblue')\n",
    "\n",
    "        shade2 = np.linspace(alpha_05_negative, np.min(values_2)-10, 300)\n",
    "        plt.fill_between(shade2, kde(shade2), alpha=0.45, color='dodgerblue')\n",
    "\n",
    "        plt.axvline(alpha_05_positive, 0, 1, color ='gray',linestyle='--')\n",
    "        plt.axvline(alpha_05_negative, 0, 1, color ='gray',linestyle='--')\n",
    "\n",
    "        plt.title(\"\"\"Turnout Distribution in %s for Two-Tail Hypothesis Test\"\"\"%(country), y=1.015, fontsize=15)\n",
    "        plt.xlabel(\"turnout\", labelpad=14)\n",
    "        plt.ylabel(\"frequency of occurence\", labelpad=14);\n",
    "\n",
    "widgets.interact(two_tail, value=a, tail=c, country=b);\n",
    "    "
   ]
  },
  {
   "cell_type": "markdown",
   "id": "566f8f25",
   "metadata": {
    "extensions": {
     "jupyter_dashboards": {
      "version": 1,
      "views": {
       "default_view": {
        "col": 0,
        "height": 2,
        "row": 234,
        "width": 12
       }
      }
     }
    }
   },
   "source": [
    "# Data Visualization (optional)"
   ]
  },
  {
   "cell_type": "markdown",
   "id": "7c5faa9c",
   "metadata": {
    "extensions": {
     "jupyter_dashboards": {
      "version": 1,
      "views": {
       "default_view": {
        "col": 0,
        "height": 2,
        "row": 236,
        "width": 12
       }
      }
     }
    }
   },
   "source": [
    "***"
   ]
  },
  {
   "cell_type": "markdown",
   "id": "814c3386",
   "metadata": {
    "extensions": {
     "jupyter_dashboards": {
      "version": 1,
      "views": {
       "default_view": {
        "col": 0,
        "height": 2,
        "row": 238,
        "width": 12
       }
      }
     }
    }
   },
   "source": [
    "### Let's get familiar with plot function/libraries and make investiagations about our dataset. As we can see from the cell that we imported libraries, we are using following libraries:\n",
    "\n",
    "    - Seaborn\n",
    "    - Matplotlib"
   ]
  },
  {
   "cell_type": "markdown",
   "id": "ab1eecc3",
   "metadata": {
    "extensions": {
     "jupyter_dashboards": {
      "version": 1,
      "views": {
       "default_view": {
        "col": 0,
        "height": 2,
        "row": 240,
        "width": 12
       }
      }
     }
    }
   },
   "source": [
    "### As shown in the plots, different social statuses are divided into gender groups and created new graphs. The same approach can be used on different statuses such as relation between employment status with educational status."
   ]
  },
  {
   "cell_type": "markdown",
   "id": "e20827a8",
   "metadata": {
    "extensions": {
     "jupyter_dashboards": {
      "version": 1,
      "views": {
       "default_view": {
        "col": 0,
        "height": 2,
        "row": 242,
        "width": 12
       }
      }
     }
    }
   },
   "source": [
    "### Gender info: \n",
    "\n",
    "    MALE ==> 1\n",
    "    FEMALE ==> 2"
   ]
  },
  {
   "cell_type": "code",
   "execution_count": 40,
   "id": "efdb742a",
   "metadata": {
    "extensions": {
     "jupyter_dashboards": {
      "version": 1,
      "views": {
       "default_view": {
        "col": 0,
        "height": 2,
        "row": 244,
        "width": 12
       }
      }
     }
    }
   },
   "outputs": [
    {
     "data": {
      "image/png": "[encoded data removed]",
      "text/plain": [
       "<Figure size 640x480 with 1 Axes>"
      ]
     },
     "metadata": {},
     "output_type": "display_data"
    }
   ],
   "source": [
    "fig = plt.figure()\n",
    "ax = fig.add_axes([0,0,1,1])\n",
    "countries = ['Turkey', 'Switzerland']\n",
    "turnouts = [turnout_list['Turkey'],turnout_list['Switzerland']]\n",
    "plt.title('Average Turnouts of the Selected Countries', fontsize=12, fontweight='bold', pad=20)\n",
    "ax.bar(countries,turnouts, color = 'r', width = 0.75)\n",
    "plt.ylabel('Average Turnouts (%)')\n",
    "plt.xlabel('Countries')\n",
    "plt.show()"
   ]
  },
  {
   "cell_type": "code",
   "execution_count": 41,
   "id": "f038a4af",
   "metadata": {
    "extensions": {
     "jupyter_dashboards": {
      "version": 1,
      "views": {
       "default_view": {
        "col": 0,
        "height": 2,
        "row": 246,
        "width": 12
       }
      }
     }
    }
   },
   "outputs": [
    {
     "data": {
      "image/png": "[encoded data removed]",
      "text/plain": [
       "<Figure size 640x480 with 1 Axes>"
      ]
     },
     "metadata": {},
     "output_type": "display_data"
    }
   ],
   "source": [
    "fig = plt.figure()\n",
    "ax = fig.add_axes([0,0,1,1])\n",
    "countries = ['Turkey', 'Switzerland']\n",
    "women_in_parliament = [df_dict['Turkey']['women_in_parliament'][0],df_dict['Switzerland']['women_in_parliament'][0]]\n",
    "plt.title('Percentage of Women Representers in Parliament', fontsize=12, fontweight='bold', pad=20)\n",
    "ax.bar(countries,women_in_parliament, color = 'c', width = 0.75)\n",
    "plt.ylabel('Women Representers (%)')\n",
    "plt.xlabel('Countries')\n",
    "plt.show()"
   ]
  },
  {
   "cell_type": "markdown",
   "id": "ac5c38b0",
   "metadata": {
    "extensions": {
     "jupyter_dashboards": {
      "version": 1,
      "views": {
       "default_view": {
        "col": 0,
        "height": 2,
        "row": 248,
        "width": 12
       }
      }
     }
    }
   },
   "source": [
    "## Gender of Respondents"
   ]
  },
  {
   "cell_type": "code",
   "execution_count": 42,
   "id": "4e074a1a",
   "metadata": {
    "extensions": {
     "jupyter_dashboards": {
      "version": 1,
      "views": {
       "default_view": {
        "col": 0,
        "height": 2,
        "row": 250,
        "width": 12
       }
      }
     }
    }
   },
   "outputs": [
    {
     "data": {
      "image/png": "[encoded data removed]",
      "text/plain": [
       "<Figure size 640x480 with 1 Axes>"
      ]
     },
     "metadata": {},
     "output_type": "display_data"
    }
   ],
   "source": [
    "fig = plt.figure()\n",
    "ax = fig.add_axes([0,0,1,1])\n",
    "gender = ['Male', 'Female']\n",
    "count_t = {count_male_t,count_female_t}\n",
    "plt.title('Number of Male and Female Respondents in Turkey', fontsize=12, fontweight='bold', pad=20)\n",
    "ax.bar(gender,count_t, color = 'g', width = 0.75)\n",
    "plt.ylabel('Count')\n",
    "plt.show()"
   ]
  },
  {
   "cell_type": "code",
   "execution_count": 43,
   "id": "5d278a2f",
   "metadata": {
    "extensions": {
     "jupyter_dashboards": {
      "version": 1,
      "views": {
       "default_view": {
        "col": 0,
        "height": 2,
        "row": 252,
        "width": 12
       }
      }
     }
    }
   },
   "outputs": [
    {
     "data": {
      "image/png": "[encoded data removed]",
      "text/plain": [
       "<Figure size 640x480 with 1 Axes>"
      ]
     },
     "metadata": {},
     "output_type": "display_data"
    }
   ],
   "source": [
    "fig = plt.figure()\n",
    "ax = fig.add_axes([0,0,1,1])\n",
    "gender = ['Male', 'Female']\n",
    "count_s = {count_male_s,count_female_s }\n",
    "plt.title('Number of Male and Female Respondents in Switzerland', fontsize=12, fontweight='bold', pad=20)\n",
    "ax.bar(gender,count_s, color = 'g', width = 0.75)\n",
    "plt.ylabel('Count')\n",
    "plt.show()"
   ]
  },
  {
   "cell_type": "markdown",
   "id": "4b4db901",
   "metadata": {
    "extensions": {
     "jupyter_dashboards": {
      "version": 1,
      "views": {
       "default_view": {
        "col": 0,
        "height": 2,
        "row": 254,
        "width": 12
       }
      }
     }
    }
   },
   "source": [
    "## Education Status"
   ]
  },
  {
   "cell_type": "markdown",
   "id": "0b6fc3c6",
   "metadata": {
    "extensions": {
     "jupyter_dashboards": {
      "version": 1,
      "views": {
       "default_view": {
        "col": 0,
        "height": 2,
        "row": 256,
        "width": 12
       }
      }
     }
    }
   },
   "source": [
    "### Education Status is determined by ISCED LEVEL categories."
   ]
  },
  {
   "cell_type": "markdown",
   "id": "7f2afbf0",
   "metadata": {
    "extensions": {
     "jupyter_dashboards": {
      "version": 1,
      "views": {
       "default_view": {
        "col": 0,
        "height": 2,
        "row": 258,
        "width": 12
       }
      }
     }
    }
   },
   "source": [
    "#### 01. ISCED LEVEL 0 - EARLY CHILDHOOD EDUCATION\n",
    "#### 02. ISCED LEVEL 1 - PRIMARY\n",
    "#### 03. ISCED LEVEL 2 - LOWER SECONDARY\n",
    "#### 04. ISCED LEVEL 3 - UPPER SECONDARY\n",
    "#### 06. ISCED LEVEL 5 - SHORT-CYCLE TERTIARY\n",
    "#### 07. ISCED LEVEL 6 - BACHELOR OR EQUIVALENT\n",
    "#### 08. ISCED LEVEL 7 - MASTER OR EQUIVALENT\n",
    "#### 09. ISCED LEVEL 8 - DOCTORAL OR EQUIVALENT\n",
    "#### 00. NONE (NO EDUCATION)\n",
    "#### -01. MISSING/NO INFORMATION\n"
   ]
  },
  {
   "cell_type": "code",
   "execution_count": 44,
   "id": "e7117652",
   "metadata": {
    "extensions": {
     "jupyter_dashboards": {
      "version": 1,
      "views": {
       "default_view": {
        "col": 0,
        "height": 2,
        "row": 260,
        "width": 12
       }
      }
     }
    }
   },
   "outputs": [
    {
     "data": {
      "image/png": "[encoded data removed]",
      "text/plain": [
       "<Figure size 1200x600 with 1 Axes>"
      ]
     },
     "metadata": {},
     "output_type": "display_data"
    }
   ],
   "source": [
    "plt.figure(figsize=(12, 6))\n",
    "sns.histplot( x='education', data=df_dict['Turkey'], stat=\"percent\", discrete=True, kde=True);\n",
    "sns.set_style(\"whitegrid\", {'axes.grid' : False})\n",
    "plt.title('Education Status of Turkey', fontsize=20, fontweight='bold', pad=20);\n",
    "plt.xlabel('EDUCATION STATUS')\n",
    "plt.show()"
   ]
  },
  {
   "cell_type": "code",
   "execution_count": 45,
   "id": "8c2b486a",
   "metadata": {
    "extensions": {
     "jupyter_dashboards": {
      "version": 1,
      "views": {
       "default_view": {
        "col": 0,
        "height": 2,
        "row": 262,
        "width": 12
       }
      }
     }
    }
   },
   "outputs": [
    {
     "data": {
      "image/png": "[encoded data removed]",
      "text/plain": [
       "<Figure size 1200x600 with 1 Axes>"
      ]
     },
     "metadata": {},
     "output_type": "display_data"
    }
   ],
   "source": [
    "plt.figure(figsize=(12, 6))\n",
    "sns.histplot( x='education', data=df_dict['Turkey'],alpha = .7 ,hue = 'gender',  stat=\"percent\", discrete=True, binwidth=1);\n",
    "sns.set_style(\"whitegrid\", {'axes.grid' : False})\n",
    "plt.title('Education Status of Turkey with Genders', fontsize=20, fontweight='bold', pad=20);\n",
    "plt.xlabel('EDUCATION STATUS')\n",
    "plt.show()"
   ]
  },
  {
   "cell_type": "code",
   "execution_count": 46,
   "id": "82d05ae5",
   "metadata": {
    "extensions": {
     "jupyter_dashboards": {
      "version": 1,
      "views": {
       "default_view": {
        "col": 0,
        "height": 2,
        "row": 264,
        "width": 12
       }
      }
     }
    }
   },
   "outputs": [
    {
     "data": {
      "image/png": "[encoded data removed]",
      "text/plain": [
       "<Figure size 1200x600 with 1 Axes>"
      ]
     },
     "metadata": {},
     "output_type": "display_data"
    }
   ],
   "source": [
    "plt.figure(figsize=(12, 6))\n",
    "sns.histplot( x='education', data=df_dict['Switzerland'],  stat=\"percent\", discrete=True, kde=True, binwidth=1);\n",
    "sns.set_style(\"whitegrid\", {'axes.grid' : False})\n",
    "plt.title('Education Status of Switzerland', fontsize=20, fontweight='bold', pad=20);\n",
    "plt.xlabel('EDUCATION STATUS')\n",
    "plt.show()\n"
   ]
  },
  {
   "cell_type": "code",
   "execution_count": 47,
   "id": "e1632387",
   "metadata": {
    "extensions": {
     "jupyter_dashboards": {
      "version": 1,
      "views": {
       "default_view": {
        "col": 0,
        "height": 2,
        "row": 266,
        "width": 12
       }
      }
     }
    }
   },
   "outputs": [
    {
     "data": {
      "image/png": "[encoded data removed]",
      "text/plain": [
       "<Figure size 1200x600 with 1 Axes>"
      ]
     },
     "metadata": {},
     "output_type": "display_data"
    }
   ],
   "source": [
    "plt.figure(figsize=(12, 6))\n",
    "sns.histplot( x='education', data=df_dict['Switzerland'],alpha = .7\n",
    "            ,hue = 'gender',  stat=\"percent\", discrete=True, binwidth=1);\n",
    "sns.set_style(\"whitegrid\", {'axes.grid' : False})\n",
    "plt.title('Education Status of Switzerland with Genders', fontsize=20, fontweight='bold', pad=20);\n",
    "plt.xlabel('EDUCATION STATUS ')\n",
    "plt.show()"
   ]
  },
  {
   "cell_type": "markdown",
   "id": "801ee1a2",
   "metadata": {
    "extensions": {
     "jupyter_dashboards": {
      "version": 1,
      "views": {
       "default_view": {
        "col": 0,
        "height": 2,
        "row": 268,
        "width": 12
       }
      }
     }
    }
   },
   "source": [
    "## Degree of Closeness to Party"
   ]
  },
  {
   "cell_type": "markdown",
   "id": "a67aaf1f",
   "metadata": {
    "extensions": {
     "jupyter_dashboards": {
      "version": 1,
      "views": {
       "default_view": {
        "col": 0,
        "height": 2,
        "row": 270,
        "width": 12
       }
      }
     }
    }
   },
   "source": [
    "#### 1. VERY CLOSE\n",
    "#### 2. SOMEWHAT CLOSE\n",
    "####  3. NOT VERY CLOSE\n",
    "#### -1. MISSING/NO INFORMATION\n"
   ]
  },
  {
   "cell_type": "code",
   "execution_count": 48,
   "id": "68cab733",
   "metadata": {
    "extensions": {
     "jupyter_dashboards": {
      "version": 1,
      "views": {
       "default_view": {
        "col": 0,
        "height": 2,
        "row": 272,
        "width": 12
       }
      }
     }
    }
   },
   "outputs": [
    {
     "data": {
      "image/png": "[encoded data removed]",
      "text/plain": [
       "<Figure size 1200x600 with 1 Axes>"
      ]
     },
     "metadata": {},
     "output_type": "display_data"
    }
   ],
   "source": [
    "plt.figure(figsize=(12, 6))\n",
    "sns.histplot( x='closeness_party', data=df_dict['Turkey'],  stat=\"percent\", discrete=True, kde=True, binwidth=1);\n",
    "sns.set_style(\"whitegrid\", {'axes.grid' : False})\n",
    "plt.title('Closeness to a Party in Turkey', fontsize=20, fontweight='bold', pad=20);\n",
    "plt.xlabel('Closeness to a Party')\n",
    "plt.show()"
   ]
  },
  {
   "cell_type": "code",
   "execution_count": 49,
   "id": "151941ca",
   "metadata": {
    "extensions": {
     "jupyter_dashboards": {
      "version": 1,
      "views": {
       "default_view": {
        "col": 0,
        "height": 2,
        "row": 274,
        "width": 12
       }
      }
     }
    }
   },
   "outputs": [
    {
     "data": {
      "image/png": "[encoded data removed]",
      "text/plain": [
       "<Figure size 1200x600 with 1 Axes>"
      ]
     },
     "metadata": {},
     "output_type": "display_data"
    }
   ],
   "source": [
    "plt.figure(figsize=(12, 6))\n",
    "sns.histplot( x='closeness_party', data=df_dict['Turkey'],alpha = .7\n",
    "            ,hue = 'gender',  stat=\"percent\", discrete=True, binwidth=1);\n",
    "sns.set_style(\"whitegrid\", {'axes.grid' : False})\n",
    "plt.title('Closeness to a Party in Turkey with Genders', fontsize=20, fontweight='bold', pad=20);\n",
    "plt.xlabel('Closeness to a Party ')\n",
    "plt.show()"
   ]
  },
  {
   "cell_type": "code",
   "execution_count": 50,
   "id": "d4fbb792",
   "metadata": {
    "extensions": {
     "jupyter_dashboards": {
      "version": 1,
      "views": {
       "default_view": {
        "col": 0,
        "height": 2,
        "row": 276,
        "width": 12
       }
      }
     }
    }
   },
   "outputs": [
    {
     "data": {
      "image/png": "[encoded data removed]",
      "text/plain": [
       "<Figure size 1200x600 with 1 Axes>"
      ]
     },
     "metadata": {},
     "output_type": "display_data"
    }
   ],
   "source": [
    "plt.figure(figsize=(12, 6))\n",
    "sns.histplot( x='closeness_party', data=df_dict['Switzerland'],  stat=\"percent\", discrete=True, kde=True, binwidth=1);\n",
    "sns.set_style(\"whitegrid\", {'axes.grid' : False})\n",
    "plt.title('Closeness to a Party in Switzerland', fontsize=20, fontweight='bold', pad=20);\n",
    "plt.xlabel('Closeness to a Party')\n",
    "plt.show()"
   ]
  },
  {
   "cell_type": "code",
   "execution_count": 51,
   "id": "15c609b0",
   "metadata": {
    "extensions": {
     "jupyter_dashboards": {
      "version": 1,
      "views": {
       "default_view": {
        "col": 0,
        "height": 2,
        "row": 278,
        "width": 12
       }
      }
     }
    }
   },
   "outputs": [
    {
     "data": {
      "image/png": "[encoded data removed]",
      "text/plain": [
       "<Figure size 1200x600 with 1 Axes>"
      ]
     },
     "metadata": {},
     "output_type": "display_data"
    }
   ],
   "source": [
    "plt.figure(figsize=(12, 6))\n",
    "sns.histplot( x='closeness_party', data=df_dict['Switzerland'],alpha = .7\n",
    "            ,hue = 'gender',  stat=\"percent\", discrete=True, binwidth=1);\n",
    "sns.set_style(\"whitegrid\", {'axes.grid' : False})\n",
    "plt.title('Closeness to a Party in Switzerland with Genders', fontsize=20, fontweight='bold', pad=20);\n",
    "plt.xlabel('Closeness to a Party ')\n",
    "plt.show()"
   ]
  },
  {
   "cell_type": "markdown",
   "id": "7533ae46",
   "metadata": {
    "extensions": {
     "jupyter_dashboards": {
      "version": 1,
      "views": {
       "default_view": {
        "col": 0,
        "height": 2,
        "row": 280,
        "width": 12
       }
      }
     }
    }
   },
   "source": [
    "## Employement Status"
   ]
  },
  {
   "cell_type": "markdown",
   "id": "2d6eedae",
   "metadata": {
    "extensions": {
     "jupyter_dashboards": {
      "version": 1,
      "views": {
       "default_view": {
        "col": 0,
        "height": 2,
        "row": 282,
        "width": 12
       }
      }
     }
    }
   },
   "source": [
    "#### 01. EMPLOYED - FULL-TIME (32 OR MORE HOURS WEEKLY)\n",
    "#### 02. EMPLOYED - PART-TIME (15-32 HOURS WEEKLY)\n",
    "#### 03. EMPLOYED - LESS THAN 15 HOURS\n",
    "#### 04. HELPING FAMILY MEMBER\n",
    "#### 05. UNEMPLOYED\n",
    "#### 06. STUDENT, IN SCHOOL, IN VOCATIONAL TRAINING\n",
    "#### 07. RETIRED\n",
    "#### 08. HOUSEWIFE, HOME DUTIES\n",
    "#### 09. PERMANENTLY DISABLED\n",
    "#### 10. OTHERS, NOT IN THE LABOR FORCE\n",
    "#### -1. MISSING/NO INFORMATION\n"
   ]
  },
  {
   "cell_type": "code",
   "execution_count": 52,
   "id": "dab6933d",
   "metadata": {
    "extensions": {
     "jupyter_dashboards": {
      "version": 1,
      "views": {
       "default_view": {
        "col": 0,
        "height": 2,
        "row": 284,
        "width": 12
       }
      }
     }
    }
   },
   "outputs": [
    {
     "data": {
      "image/png": "[encoded data removed]",
      "text/plain": [
       "<Figure size 1200x600 with 1 Axes>"
      ]
     },
     "metadata": {},
     "output_type": "display_data"
    }
   ],
   "source": [
    "plt.figure(figsize=(12, 6))\n",
    "sns.histplot( x='employement', data=df_dict['Turkey'],  stat=\"percent\", discrete=True, kde=True, binwidth=1);\n",
    "sns.set_style(\"whitegrid\", {'axes.grid' : False})\n",
    "plt.title('Employment Status in Turkey', fontsize=20, fontweight='bold', pad=20);\n",
    "plt.xlabel('Employment Status')\n",
    "plt.show()\n"
   ]
  },
  {
   "cell_type": "code",
   "execution_count": 53,
   "id": "03637496",
   "metadata": {
    "extensions": {
     "jupyter_dashboards": {
      "version": 1,
      "views": {
       "default_view": {
        "col": 0,
        "height": 2,
        "row": 286,
        "width": 12
       }
      }
     }
    }
   },
   "outputs": [
    {
     "data": {
      "image/png": "[encoded data removed]",
      "text/plain": [
       "<Figure size 1200x600 with 1 Axes>"
      ]
     },
     "metadata": {},
     "output_type": "display_data"
    }
   ],
   "source": [
    "plt.figure(figsize=(12, 6))\n",
    "sns.histplot( x='employement', data=df_dict['Turkey'],alpha = .7\n",
    "            ,hue = 'gender',  stat=\"percent\", discrete=True, binwidth=1);\n",
    "sns.set_style(\"whitegrid\", {'axes.grid' : False})\n",
    "plt.title('Employment Status in Turkey with Genders', fontsize=20, fontweight='bold', pad=20);\n",
    "plt.xlabel('Employment Status')\n",
    "plt.show()"
   ]
  },
  {
   "cell_type": "code",
   "execution_count": 54,
   "id": "31a2dfab",
   "metadata": {
    "extensions": {
     "jupyter_dashboards": {
      "version": 1,
      "views": {
       "default_view": {
        "col": 0,
        "height": 2,
        "row": 288,
        "width": 12
       }
      }
     }
    }
   },
   "outputs": [
    {
     "data": {
      "image/png": "[encoded data removed]",
      "text/plain": [
       "<Figure size 1200x600 with 1 Axes>"
      ]
     },
     "metadata": {},
     "output_type": "display_data"
    }
   ],
   "source": [
    "plt.figure(figsize=(12, 6))\n",
    "sns.histplot( x='employement', data=df_dict['Switzerland'],  stat=\"percent\", discrete=True, kde=True, binwidth=1);\n",
    "sns.set_style(\"whitegrid\", {'axes.grid' : False})\n",
    "plt.title('Employment Status in Switzerland', fontsize=20, fontweight='bold', pad=20);\n",
    "plt.xlabel('Employment Status')\n",
    "plt.show()"
   ]
  },
  {
   "cell_type": "code",
   "execution_count": 55,
   "id": "990e877b",
   "metadata": {
    "extensions": {
     "jupyter_dashboards": {
      "version": 1,
      "views": {
       "default_view": {
        "col": 0,
        "height": 2,
        "row": 290,
        "width": 12
       }
      }
     }
    }
   },
   "outputs": [
    {
     "data": {
      "image/png": "[encoded data removed]",
      "text/plain": [
       "<Figure size 1200x600 with 1 Axes>"
      ]
     },
     "metadata": {},
     "output_type": "display_data"
    }
   ],
   "source": [
    "plt.figure(figsize=(12, 6))\n",
    "sns.histplot( x='employement', data=df_dict['Switzerland'],alpha = .7\n",
    "            ,hue = 'gender',  stat=\"percent\", discrete=True, binwidth=1);\n",
    "sns.set_style(\"whitegrid\", {'axes.grid' : False})\n",
    "plt.title('Employment Status in Switzerland with Genders', fontsize=20, fontweight='bold', pad=20);\n",
    "plt.xlabel('Employment Status')\n",
    "plt.show()"
   ]
  },
  {
   "cell_type": "code",
   "execution_count": null,
   "id": "913b0d9e",
   "metadata": {},
   "outputs": [],
   "source": []
  }
 ],
 "metadata": {
  "extensions": {
   "jupyter_dashboards": {
    "activeView": "default_view",
    "version": 1,
    "views": {
     "default_view": {
      "cellMargin": 10,
      "defaultCellHeight": 40,
      "maxColumns": 12,
      "name": "active_view",
      "type": "grid"
     }
    }
   }
  },
  "kernelspec": {
   "display_name": "Python 3",
   "language": "python",
   "name": "python3"
  },
  "language_info": {
   "codemirror_mode": {
    "name": "ipython",
    "version": 3
   },
   "file_extension": ".py",
   "mimetype": "text/x-python",
   "name": "python",
   "nbconvert_exporter": "python",
   "pygments_lexer": "ipython3",
   "version": "3.7.11"
  },
  "voila": {
   "stripOutputs": false
  },
  "widgets": {
   "application/vnd.jupyter.widget-state+json": {
    "state": {},
    "version_major": 2,
    "version_minor": 0
   }
  }
 },
 "nbformat": 4,
 "nbformat_minor": 5
}
