{
 "cells": [
  {
   "cell_type": "code",
   "execution_count": 1,
   "id": "67725f08",
   "metadata": {},
   "outputs": [],
   "source": [
    "import numpy as np\n",
    "import pandas as pd\n",
    "import matplotlib.pyplot as plt\n",
    "import seaborn as sns\n",
    "import warnings\n",
    "import operator\n",
    "import csv\n",
    "from collections import Counter\n",
    "import scipy.stats as stats\n",
    "from scipy.stats import chi2_contingency\n",
    "from scipy.stats import chi2"
   ]
  },
  {
   "cell_type": "code",
   "execution_count": 2,
   "id": "1c9a298c",
   "metadata": {},
   "outputs": [],
   "source": [
    "warnings.filterwarnings('ignore')"
   ]
  },
  {
   "cell_type": "code",
   "execution_count": 6,
   "id": "7c811802",
   "metadata": {},
   "outputs": [],
   "source": [
    "#!jupyter nbextension enable --py widgetsnbextension --sys-prefix\n",
    "#!jupyter serverextension enable voila --sys-prefix"
   ]
  },
  {
   "cell_type": "code",
   "execution_count": 4,
   "id": "43bb4e8c",
   "metadata": {},
   "outputs": [],
   "source": [
    "data = pd.read_csv(r'C:\\Users\\user\\Desktop\\Radius\\September\\1st Week\\cses5.csv')\n",
    "\n",
    "data = data.rename(columns={'E1006_NAM': 'country_name'})\n",
    "data = data.rename(columns={'E2002': 'gender'})\n",
    "data = data.rename(columns={'E2003': 'education'})\n",
    "data = data.rename(columns={'E2006': 'employement'})\n",
    "data = data.rename(columns={'E3024_4': 'closeness_party'})\n",
    "data = data.rename(columns={'E4006': 'turnout'})\n",
    "data = data.rename(columns={'E5075': 'women_in_parliament'})\n",
    "\n",
    "data1 = data[['country_name', 'gender','education',\n",
    "        'employement', 'closeness_party','turnout','women_in_parliament']]\n",
    "\n",
    "df_dict = {ct: data1[data1.country_name== ct].reset_index(drop=True) for ct in data1['country_name'].unique()}"
   ]
  },
  {
   "cell_type": "code",
   "execution_count": 5,
   "id": "8320ea1b",
   "metadata": {},
   "outputs": [],
   "source": [
    "import ipywidgets as widgets"
   ]
  },
  {
   "cell_type": "code",
   "execution_count": 7,
   "id": "d8dc2c29",
   "metadata": {},
   "outputs": [
    {
     "data": {
      "application/vnd.jupyter.widget-view+json": {
       "model_id": "46192fb7411441f1a6150d5b54db3454",
       "version_major": 2,
       "version_minor": 0
      },
      "text/plain": [
       "interactive(children=(Dropdown(description='Country:', options=('Turkey', 'Switzerland'), value='Turkey'), Dro…"
      ]
     },
     "metadata": {},
     "output_type": "display_data"
    }
   ],
   "source": [
    "a = widgets.Dropdown(\n",
    "    options=['0.05', '0.01', '0.001'],\n",
    "    value='0.05',\n",
    "    description='α level:',\n",
    "    disabled=False,\n",
    "    continuous_update=False\n",
    "\n",
    ")\n",
    "\n",
    "b = widgets.Dropdown(\n",
    "    options=['Turkey', 'Switzerland'],\n",
    "    value='Turkey',\n",
    "    description='Country:',\n",
    "    disabled=False,\n",
    "    continuous_update=False\n",
    ")\n",
    "\n",
    "\n",
    "c = widgets.Dropdown(\n",
    "    options=['one-tail', 'two-tail'],\n",
    "    value='one-tail',\n",
    "    description='Test:',\n",
    "    disabled=False,\n",
    "    continuous_update=False\n",
    ")\n",
    "\n",
    "def two_tail(country,tail,value):\n",
    "    \n",
    "    values_2 = np.array(df_dict[country]['turnout'])\n",
    "    \n",
    "    if tail == 'one-tail':\n",
    "        if value == '0.05':\n",
    "            mult = 1.645\n",
    "        elif value == '0.01':\n",
    "            mult = 2.33\n",
    "        elif value == '0.001':\n",
    "            mult = 3.1\n",
    "        two_std_from_mean = np.mean(values_2) + np.std(values_2)*mult\n",
    "        kde = stats.gaussian_kde(values_2)\n",
    "        pos = np.linspace(np.min(values_2)-10, np.max(values_2)+10, 10000)\n",
    "        plt.plot(pos, kde(pos), color='teal')\n",
    "\n",
    "        shade = np.linspace(two_std_from_mean, np.max(values_2)+10, 300)\n",
    "        plt.fill_between(shade, kde(shade), alpha=0.45, color='teal')\n",
    "\n",
    "        plt.axvline(two_std_from_mean, 0, 1, color ='gray',linestyle='--')\n",
    "\n",
    "        plt.title(\"Turnout Distribution in Switzerland for One-Tail Hypothesis Test\", y=1.015, fontsize=15)\n",
    "        plt.xlabel(\"turnout\", labelpad=14)\n",
    "        plt.ylabel(\"frequency of occurence\", labelpad=14)\n",
    "    \n",
    "    elif tail == 'two-tail':\n",
    "        if value == '0.05':\n",
    "            mult = 1.96\n",
    "        elif value == '0.01':\n",
    "            mult = 2.575\n",
    "        elif value == '0.001':\n",
    "            mult = 3.29\n",
    "        \n",
    "        alpha_05_positive = np.mean(values_2) + np.std(values_2)*mult\n",
    "        alpha_05_negative = np.mean(values_2) - np.std(values_2)*mult\n",
    "        kde = stats.gaussian_kde(values_2)\n",
    "        pos = np.linspace(np.min(values_2)-10, np.max(values_2)+10, 10000)\n",
    "\n",
    "        plt.plot(pos, kde(pos), color='dodgerblue')\n",
    "\n",
    "        shade = np.linspace(alpha_05_positive, np.max(values_2)+10, 300)\n",
    "        plt.fill_between(shade, kde(shade), alpha=0.45, color='dodgerblue')\n",
    "\n",
    "        shade2 = np.linspace(alpha_05_negative, np.min(values_2)-10, 300)\n",
    "        plt.fill_between(shade2, kde(shade2), alpha=0.45, color='dodgerblue')\n",
    "\n",
    "        plt.axvline(alpha_05_positive, 0, 1, color ='gray',linestyle='--')\n",
    "        plt.axvline(alpha_05_negative, 0, 1, color ='gray',linestyle='--')\n",
    "\n",
    "        plt.title(\"\"\"Turnout Distribution in %s for Two-Tail Hypothesis Test\"\"\"%(country), y=1.015, fontsize=15)\n",
    "        plt.xlabel(\"turnout\", labelpad=14)\n",
    "        plt.ylabel(\"frequency of occurence\", labelpad=14);\n",
    "\n",
    "widgets.interact(two_tail, value=a, tail=c, country=b);"
   ]
  },
  {
   "cell_type": "code",
   "execution_count": null,
   "id": "8b960173",
   "metadata": {},
   "outputs": [],
   "source": [
    "!pip freeze > requirements.txt"
   ]
  }
 ],
 "metadata": {
  "kernelspec": {
   "display_name": "Python 3",
   "language": "python",
   "name": "python3"
  },
  "language_info": {
   "codemirror_mode": {
    "name": "ipython",
    "version": 3
   },
   "file_extension": ".py",
   "mimetype": "text/x-python",
   "name": "python",
   "nbconvert_exporter": "python",
   "pygments_lexer": "ipython3",
   "version": "3.7.11"
  }
 },
 "nbformat": 4,
 "nbformat_minor": 5
}
