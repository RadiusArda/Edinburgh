{
 "cells": [
  {
   "cell_type": "markdown",
   "id": "c805f106",
   "metadata": {},
   "source": [
    "<br>\n",
    "<font face=\"Helvetica\"  size=\"6.5px\" color=\"#323752\" >          Linear Regression with Continues Dependent Variable and Multiple Independent Variables</font>"
   ]
  },
  {
   "cell_type": "markdown",
   "id": "d92f9da4",
   "metadata": {},
   "source": [
    "***"
   ]
  },
  {
   "cell_type": "markdown",
   "id": "289d2d2e",
   "metadata": {},
   "source": [
    "<br>\n",
    "<font face=\"Helvetica\"  size=\"5px\" color=\"#323752\" >1- Importing Dataset, Libraries and Data Organization </font>"
   ]
  },
  {
   "cell_type": "markdown",
   "id": "95276033",
   "metadata": {},
   "source": [
    "<br>\n",
    "<br>\n",
    "<font face=\"Helvetica\" size=\"3.5px\" color=\"#323752\">In this lecture we will be working on, univariate descriptive statistics and graphics, some bivariate analysis and multivariate, continues dependent variable, linear regression. </font>"
   ]
  },
  {
   "cell_type": "markdown",
   "id": "ab47910a",
   "metadata": {},
   "source": [
    "<br>\n",
    "<br>\n",
    "<font face=\"Helvetica\" size=\"3.5px\" color=\"#323752\">As always we will import some funtions that will be used throughout the tutorial. "
   ]
  },
  {
   "cell_type": "code",
   "execution_count": 1,
   "id": "4ec7215c",
   "metadata": {},
   "outputs": [],
   "source": [
    "import numpy as np\n",
    "import pandas as pd\n",
    "import matplotlib.pyplot as plt\n",
    "import seaborn as sns\n",
    "import warnings\n",
    "import operator\n",
    "import csv\n",
    "from collections import Counter\n",
    "import scipy.stats as stats\n",
    "from scipy.stats import chi2_contingency\n",
    "from scipy.stats import chi2\n",
    "import ipywidgets as widgets\n",
    "from IPython.display import HTML\n",
    "import random"
   ]
  },
  {
   "cell_type": "markdown",
   "id": "329fdd14",
   "metadata": {},
   "source": [
    "<br>\n",
    "<br>\n",
    "<font face=\"Helvetica\" size=\"3px\" color=\"#323752\" >We do not want to see undesired warnings in our report.</font>\n",
    "<br>\n",
    "<br>"
   ]
  },
  {
   "cell_type": "code",
   "execution_count": 2,
   "id": "dbb94f23",
   "metadata": {},
   "outputs": [],
   "source": [
    "warnings.filterwarnings('ignore')"
   ]
  },
  {
   "cell_type": "markdown",
   "id": "b2fa99e9",
   "metadata": {},
   "source": [
    "<br>\n",
    "<br>\n",
    "<font face=\"Helvetica\" size=\"3px\" color=\"#323752\" >In the following code cell we will create a function to hide/show code cells. Since some of the code cells that we will create in this tutorial is quite long especially the ones for the widgets. We will call this function inside the cells.</font>\n",
    "<br>\n",
    "<br>"
   ]
  },
  {
   "cell_type": "code",
   "execution_count": 3,
   "id": "c845346e",
   "metadata": {},
   "outputs": [
    {
     "data": {
      "text/html": [
       "\n",
       "        <script>\n",
       "            function code_toggle_10124312824842315453() {\n",
       "                $('div.cell.code_cell.rendered.selected').find('div.input').toggle();\n",
       "            }\n",
       "\n",
       "            \n",
       "        </script>\n",
       "\n",
       "        <a href=\"javascript:code_toggle_10124312824842315453()\">Show/Hide code cell</a>\n",
       "    "
      ],
      "text/plain": [
       "<IPython.core.display.HTML object>"
      ]
     },
     "execution_count": 3,
     "metadata": {},
     "output_type": "execute_result"
    }
   ],
   "source": [
    "def hide_toggle(for_next=False):\n",
    "    \n",
    "    this_cell = \"\"\"$('div.cell.code_cell.rendered.selected')\"\"\"\n",
    "    next_cell = this_cell + '.next()'\n",
    "\n",
    "    toggle_text = 'Show/Hide code cell'  # text shown on toggle link\n",
    "    target_cell = this_cell  # target cell to control with toggle\n",
    "    js_hide_current = ''  # bit of JS to permanently hide code in current cell (only when toggling next cell)\n",
    "\n",
    "    if for_next:\n",
    "        target_cell = next_cell\n",
    "        toggle_text += ' next cell'\n",
    "        js_hide_current = this_cell + '.find(\"div.input\").hide();'\n",
    "\n",
    "    js_f_name = 'code_toggle_{}'.format(str(random.randint(1,2**64)))\n",
    "\n",
    "    html = \"\"\"\n",
    "        <script>\n",
    "            function {f_name}() {{\n",
    "                {cell_selector}.find('div.input').toggle();\n",
    "            }}\n",
    "\n",
    "            {js_hide_current}\n",
    "        </script>\n",
    "\n",
    "        <a href=\"javascript:{f_name}()\">{toggle_text}</a>\n",
    "    \"\"\".format(\n",
    "        f_name=js_f_name,\n",
    "        cell_selector=target_cell,\n",
    "        js_hide_current=js_hide_current, \n",
    "        toggle_text=toggle_text\n",
    "    )\n",
    "\n",
    "    return HTML(html)\n",
    "\n",
    "hide_toggle()"
   ]
  },
  {
   "cell_type": "code",
   "execution_count": 4,
   "id": "c511b962",
   "metadata": {
    "scrolled": true
   },
   "outputs": [
    {
     "name": "stdout",
     "output_type": "stream",
     "text": [
      "<class 'pandas.core.frame.DataFrame'>\n",
      "RangeIndex: 8280 entries, 0 to 8279\n",
      "Columns: 1771 entries, version to V203527\n",
      "dtypes: float64(3), int64(1723), object(45)\n",
      "memory usage: 111.9+ MB\n"
     ]
    }
   ],
   "source": [
    "hide_toggle()\n",
    "\n",
    "#data = pd.read_csv(r'anes_data.csv')\n",
    "#data.info()"
   ]
  },
  {
   "cell_type": "markdown",
   "id": "8fa40cdc",
   "metadata": {},
   "source": [
    "<br>\n",
    "<br>\n",
    "<font face=\"Helvetica\" size=\"3px\" color=\"#323752\" >Our dataset columns has code names for variables. We will change the names in oder to simplify the understanding.</font>\n",
    "<br>\n",
    "<br>"
   ]
  },
  {
   "cell_type": "code",
   "execution_count": 5,
   "id": "87b78488",
   "metadata": {},
   "outputs": [
    {
     "data": {
      "text/html": [
       "\n",
       "        <script>\n",
       "            function code_toggle_5237271142695955444() {\n",
       "                $('div.cell.code_cell.rendered.selected').find('div.input').toggle();\n",
       "            }\n",
       "\n",
       "            \n",
       "        </script>\n",
       "\n",
       "        <a href=\"javascript:code_toggle_5237271142695955444()\">Show/Hide code cell</a>\n",
       "    "
      ],
      "text/plain": [
       "<IPython.core.display.HTML object>"
      ]
     },
     "execution_count": 5,
     "metadata": {},
     "output_type": "execute_result"
    }
   ],
   "source": [
    "hide_toggle()\n",
    "\n",
    "#data = data.rename(columns={'V201152': 'Thermo_republican'})\n",
    "#data = data.rename(columns={'V202637': 'gender'})\n",
    "#data = data.rename(columns={'V201507x': 'age'})\n",
    "#data = data.rename(columns={'V201234': 'government'})\n",
    "#data = data.rename(columns={'V201237': 'interTrust'})\n",
    "#data = data.rename(columns={'V201352': 'elecTrust'})\n",
    "#data = data.rename(columns={'V201435': 'religion'})\n",
    "#data = data.rename(columns={'V201433': 'relImportance'})\n",
    "#data = data.rename(columns={'V201436': 'newReligion'})"
   ]
  },
  {
   "cell_type": "markdown",
   "id": "79a19331",
   "metadata": {},
   "source": [
    "<br>\n",
    "<br>\n",
    "<font face=\"Helvetica\" size=\"3px\" color=\"#323752\">After changing their names, let's get familiar with the variables.</font>\n",
    "<br>\n",
    "<br>"
   ]
  },
  {
   "cell_type": "markdown",
   "id": "953dfd27",
   "metadata": {},
   "source": [
    "<br>\n",
    "<font face=\"Helvetica\"  size=\"5px\" color=\"#323752\" >2- Variables </font>"
   ]
  },
  {
   "cell_type": "markdown",
   "id": "29372dab",
   "metadata": {},
   "source": [
    "<br>\n",
    "<font face=\"Helvetica\"  size=\"4px\" color=\"#323752\" > <b> 1) Thermo_republican: Thermometer toward the republican candidate</b> </font>"
   ]
  },
  {
   "cell_type": "markdown",
   "id": "8a9fb3fa",
   "metadata": {},
   "source": [
    "<br>\n",
    "<font face=\"Helvetica\" size=\"3px\" color=\"#323752\">This varible determines the feeling toward the candidate of republicans. This variable ranges from 0-100, we will treat it as a continuous variable. Thermo_republican will be our dependent variable in this tutorial.</font>\n",
    "<br>"
   ]
  },
  {
   "cell_type": "markdown",
   "id": "b061f317",
   "metadata": {},
   "source": [
    "<br>\n",
    "<font face=\"Helvetica\"  size=\"4px\" color=\"#323752\" > <b> 2) Gender</b> </font>"
   ]
  },
  {
   "cell_type": "markdown",
   "id": "9157ae74",
   "metadata": {},
   "source": [
    "<br>\n",
    "<font face=\"Helvetica\" size=\"3px\" color=\"#323752\">\n",
    "1. Male\n",
    "<br>2. Female"
   ]
  },
  {
   "cell_type": "markdown",
   "id": "23ac9217",
   "metadata": {},
   "source": [
    "<br>\n",
    "<font face=\"Helvetica\"  size=\"4px\" color=\"#323752\" > <b> 3) Age</b> </font>"
   ]
  },
  {
   "cell_type": "markdown",
   "id": "b2925cd0",
   "metadata": {},
   "source": [
    "<br>\n",
    "<font face=\"Helvetica\"  size=\"4px\" color=\"#323752\" > <b> 4) Government: Government run by a few</b> </font>"
   ]
  },
  {
   "cell_type": "markdown",
   "id": "e28a3cf2",
   "metadata": {},
   "source": [
    "<br>\n",
    "<font face=\"Helvetica\" size=\"3px\" color=\"#323752\">The question is : Would you say the government is pretty much run by a few\n",
    "big interests looking out for themselves or that it is run for the benefit of all the people?\n",
    "<br> 1. Run by a few big interests\n",
    "<br> 2. For the benefit of all the people\n",
    "</font>"
   ]
  },
  {
   "cell_type": "markdown",
   "id": "e497d700",
   "metadata": {},
   "source": [
    "<br>\n",
    "<font face=\"Helvetica\"  size=\"4px\" color=\"#323752\" > <b> 5) InterTrust: Interpersonal trust</b> </font>"
   ]
  },
  {
   "cell_type": "markdown",
   "id": "426bb07f",
   "metadata": {},
   "source": [
    "<br>\n",
    "<font face=\"Helvetica\" size=\"3px\" color=\"#323752\">The question is : Generally speaking, how often can you trust other people?\n",
    "<br>1. Always\n",
    "<br>2. Most of the time\n",
    "<br>3. About half the time\n",
    "<br>4. Some of the time\n",
    "<br>5. Never\n",
    "<br>"
   ]
  },
  {
   "cell_type": "markdown",
   "id": "48cee949",
   "metadata": {},
   "source": [
    "<br>\n",
    "<font face=\"Helvetica\"  size=\"4px\" color=\"#323752\" > <b> 6) ElecTrust: Election officials trust</b> </font>"
   ]
  },
  {
   "cell_type": "markdown",
   "id": "6ca86391",
   "metadata": {},
   "source": [
    "<br>\n",
    "<font face=\"Helvetica\" size=\"3px\" color=\"#323752\">The question is : How much do you trust the officials who oversee elections\n",
    "where you live?\n",
    "<br>1. Not at all\n",
    "<br>2. A little\n",
    "<br>3. A moderate amount\n",
    "<br>4. A lot\n",
    "<br>5. A great deal\n",
    "<br>"
   ]
  },
  {
   "cell_type": "markdown",
   "id": "0a27379b",
   "metadata": {},
   "source": [
    "<br>\n",
    "<font face=\"Helvetica\"  size=\"4px\" color=\"#323752\" > <b> 7) Religion</b> </font>"
   ]
  },
  {
   "cell_type": "markdown",
   "id": "95609b0f",
   "metadata": {},
   "source": [
    "<br>\n",
    "<font face=\"Helvetica\" size=\"3px\" color=\"#323752\">The question is : What is your present religion, if any?\n",
    "<br>1. Protestant\n",
    "<br>2. Roman Catholic\n",
    "<br>3. Orthodox Christian (such as Greek or Russian Orthodox)\n",
    "<br>4. Latter-Day Saints (LDS)\n",
    "<br>5. Jewish\n",
    "<br>6. Muslim\n",
    "<br>7. Buddhist\n",
    "<br>8. Hindu\n",
    "<br>9. Atheist\n",
    "<br>10. Agnostic\n",
    "<br>11. Something else\n",
    "<br>12. Nothing in particular\n",
    "<br>"
   ]
  },
  {
   "cell_type": "markdown",
   "id": "b31731ec",
   "metadata": {},
   "source": [
    "<br>\n",
    "<font face=\"Helvetica\"  size=\"4px\" color=\"#323752\" > <b> 8) RelImportance : Importance of religion</b> </font>"
   ]
  },
  {
   "cell_type": "markdown",
   "id": "dc19458b",
   "metadata": {},
   "source": [
    "<br>\n",
    "<font face=\"Helvetica\" size=\"3px\" color=\"#323752\">The question is :How important is religion in your life?\n",
    "<br>1. Extremely important\n",
    "<br>2. Very important\n",
    "<br>3. Moderately important\n",
    "<br>4. A little important\n",
    "<br>5. Not important at all\n",
    "<br>"
   ]
  },
  {
   "cell_type": "markdown",
   "id": "0c27a66f",
   "metadata": {},
   "source": [
    "<br>\n",
    "<font face=\"Helvetica\"  size=\"4px\" color=\"#323752\" > <b> 9) NewReligion : A new variable</b> </font>"
   ]
  },
  {
   "cell_type": "markdown",
   "id": "15864cf3",
   "metadata": {},
   "source": [
    "<br>\n",
    "<font face=\"Helvetica\" size=\"3px\" color=\"#323752\"> This is a binary variable to control for protestants for whom religion is either extremely important or very important which is created by using variables <b>religion</b> and <b>relImportance</b>.\n",
    "<br>1. Protestant and religion is extremely important or veryimportant.  \n",
    "<br>2. Either protestant but religion is not important part of life not or not a protestant.   "
   ]
  },
  {
   "cell_type": "markdown",
   "id": "082abcd5",
   "metadata": {},
   "source": [
    "<br>\n",
    "<br>\n",
    "<font face=\"Helvetica\" size=\"3px\" color=\"#323752\" >We need to get rid of the unnecessary variables to shrink the data, which has 1771 different variables (column entries). You can see the latest format of the dataset in the output below.</font>\n",
    "<br>\n",
    "<br>"
   ]
  },
  {
   "cell_type": "code",
   "execution_count": 6,
   "id": "b37659cd",
   "metadata": {},
   "outputs": [
    {
     "data": {
      "text/html": [
       "<div>\n",
       "<style scoped>\n",
       "    .dataframe tbody tr th:only-of-type {\n",
       "        vertical-align: middle;\n",
       "    }\n",
       "\n",
       "    .dataframe tbody tr th {\n",
       "        vertical-align: top;\n",
       "    }\n",
       "\n",
       "    .dataframe thead th {\n",
       "        text-align: right;\n",
       "    }\n",
       "</style>\n",
       "<table border=\"1\" class=\"dataframe\">\n",
       "  <thead>\n",
       "    <tr style=\"text-align: right;\">\n",
       "      <th></th>\n",
       "      <th>Thermo_republican</th>\n",
       "      <th>gender</th>\n",
       "      <th>age</th>\n",
       "      <th>government</th>\n",
       "      <th>interTrust</th>\n",
       "      <th>elecTrust</th>\n",
       "      <th>religion</th>\n",
       "      <th>relImportance</th>\n",
       "      <th>newReligion</th>\n",
       "    </tr>\n",
       "  </thead>\n",
       "  <tbody>\n",
       "    <tr>\n",
       "      <th>0</th>\n",
       "      <td>100</td>\n",
       "      <td>-1</td>\n",
       "      <td>46</td>\n",
       "      <td>1</td>\n",
       "      <td>3</td>\n",
       "      <td>3</td>\n",
       "      <td>11</td>\n",
       "      <td>2</td>\n",
       "      <td>-1</td>\n",
       "    </tr>\n",
       "    <tr>\n",
       "      <th>1</th>\n",
       "      <td>0</td>\n",
       "      <td>-1</td>\n",
       "      <td>37</td>\n",
       "      <td>1</td>\n",
       "      <td>4</td>\n",
       "      <td>2</td>\n",
       "      <td>12</td>\n",
       "      <td>5</td>\n",
       "      <td>4</td>\n",
       "    </tr>\n",
       "    <tr>\n",
       "      <th>2</th>\n",
       "      <td>0</td>\n",
       "      <td>-1</td>\n",
       "      <td>40</td>\n",
       "      <td>1</td>\n",
       "      <td>4</td>\n",
       "      <td>4</td>\n",
       "      <td>11</td>\n",
       "      <td>3</td>\n",
       "      <td>-1</td>\n",
       "    </tr>\n",
       "    <tr>\n",
       "      <th>3</th>\n",
       "      <td>15</td>\n",
       "      <td>-1</td>\n",
       "      <td>41</td>\n",
       "      <td>1</td>\n",
       "      <td>2</td>\n",
       "      <td>4</td>\n",
       "      <td>2</td>\n",
       "      <td>1</td>\n",
       "      <td>-1</td>\n",
       "    </tr>\n",
       "    <tr>\n",
       "      <th>4</th>\n",
       "      <td>85</td>\n",
       "      <td>-1</td>\n",
       "      <td>72</td>\n",
       "      <td>1</td>\n",
       "      <td>4</td>\n",
       "      <td>2</td>\n",
       "      <td>12</td>\n",
       "      <td>4</td>\n",
       "      <td>4</td>\n",
       "    </tr>\n",
       "    <tr>\n",
       "      <th>...</th>\n",
       "      <td>...</td>\n",
       "      <td>...</td>\n",
       "      <td>...</td>\n",
       "      <td>...</td>\n",
       "      <td>...</td>\n",
       "      <td>...</td>\n",
       "      <td>...</td>\n",
       "      <td>...</td>\n",
       "      <td>...</td>\n",
       "    </tr>\n",
       "    <tr>\n",
       "      <th>8275</th>\n",
       "      <td>100</td>\n",
       "      <td>2</td>\n",
       "      <td>26</td>\n",
       "      <td>1</td>\n",
       "      <td>4</td>\n",
       "      <td>2</td>\n",
       "      <td>11</td>\n",
       "      <td>3</td>\n",
       "      <td>-1</td>\n",
       "    </tr>\n",
       "    <tr>\n",
       "      <th>8276</th>\n",
       "      <td>70</td>\n",
       "      <td>2</td>\n",
       "      <td>52</td>\n",
       "      <td>1</td>\n",
       "      <td>2</td>\n",
       "      <td>5</td>\n",
       "      <td>4</td>\n",
       "      <td>1</td>\n",
       "      <td>-1</td>\n",
       "    </tr>\n",
       "    <tr>\n",
       "      <th>8277</th>\n",
       "      <td>30</td>\n",
       "      <td>-1</td>\n",
       "      <td>45</td>\n",
       "      <td>1</td>\n",
       "      <td>4</td>\n",
       "      <td>3</td>\n",
       "      <td>2</td>\n",
       "      <td>3</td>\n",
       "      <td>-1</td>\n",
       "    </tr>\n",
       "    <tr>\n",
       "      <th>8278</th>\n",
       "      <td>100</td>\n",
       "      <td>-1</td>\n",
       "      <td>65</td>\n",
       "      <td>1</td>\n",
       "      <td>2</td>\n",
       "      <td>3</td>\n",
       "      <td>1</td>\n",
       "      <td>1</td>\n",
       "      <td>-1</td>\n",
       "    </tr>\n",
       "    <tr>\n",
       "      <th>8279</th>\n",
       "      <td>0</td>\n",
       "      <td>2</td>\n",
       "      <td>38</td>\n",
       "      <td>1</td>\n",
       "      <td>2</td>\n",
       "      <td>4</td>\n",
       "      <td>7</td>\n",
       "      <td>3</td>\n",
       "      <td>-1</td>\n",
       "    </tr>\n",
       "  </tbody>\n",
       "</table>\n",
       "<p>8280 rows × 9 columns</p>\n",
       "</div>"
      ],
      "text/plain": [
       "      Thermo_republican  gender  age  government  interTrust  elecTrust  \\\n",
       "0                   100      -1   46           1           3          3   \n",
       "1                     0      -1   37           1           4          2   \n",
       "2                     0      -1   40           1           4          4   \n",
       "3                    15      -1   41           1           2          4   \n",
       "4                    85      -1   72           1           4          2   \n",
       "...                 ...     ...  ...         ...         ...        ...   \n",
       "8275                100       2   26           1           4          2   \n",
       "8276                 70       2   52           1           2          5   \n",
       "8277                 30      -1   45           1           4          3   \n",
       "8278                100      -1   65           1           2          3   \n",
       "8279                  0       2   38           1           2          4   \n",
       "\n",
       "      religion  relImportance  newReligion  \n",
       "0           11              2           -1  \n",
       "1           12              5            4  \n",
       "2           11              3           -1  \n",
       "3            2              1           -1  \n",
       "4           12              4            4  \n",
       "...        ...            ...          ...  \n",
       "8275        11              3           -1  \n",
       "8276         4              1           -1  \n",
       "8277         2              3           -1  \n",
       "8278         1              1           -1  \n",
       "8279         7              3           -1  \n",
       "\n",
       "[8280 rows x 9 columns]"
      ]
     },
     "execution_count": 6,
     "metadata": {},
     "output_type": "execute_result"
    }
   ],
   "source": [
    "#data2 = data[['Thermo_republican','gender','age','government','interTrust','elecTrust', 'religion', 'relImportance', 'newReligion']]\n",
    "\n",
    "#data2.to_csv(\"data2.csv\")\n",
    "data2 = pd.read_csv(r'data2.csv')\n",
    "data2 = data2[['Thermo_republican','gender','age','government','interTrust','elecTrust', 'religion', 'relImportance', 'newReligion']]\n",
    "data2"
   ]
  },
  {
   "cell_type": "markdown",
   "id": "1c820c62",
   "metadata": {},
   "source": [
    "<br>\n",
    "<br>\n",
    "<font face=\"Helvetica\" size=\"3px\" color=\"#323752\" > Before starting the calculations, we need to cleanse the data set. Since missing informations are determined, we need to get rid of them. For instance, a missing information in Thermometer data is given with negative values. Therefore, we need to handle them to have more accurate result.</font>."
   ]
  },
  {
   "cell_type": "markdown",
   "id": "bda74121",
   "metadata": {},
   "source": [
    "<br>\n",
    "<font face=\"Helvetica\" size=\"3px\" color=\"#323752\" > Also, we will create a new binary varible that controls respondent is either an extremely religous or very religious protestant. If respondents is one of them, the label will be one."
   ]
  },
  {
   "cell_type": "code",
   "execution_count": 7,
   "id": "c9f80f87",
   "metadata": {},
   "outputs": [
    {
     "data": {
      "text/html": [
       "\n",
       "        <script>\n",
       "            function code_toggle_14595096052071175243() {\n",
       "                $('div.cell.code_cell.rendered.selected').find('div.input').toggle();\n",
       "            }\n",
       "\n",
       "            \n",
       "        </script>\n",
       "\n",
       "        <a href=\"javascript:code_toggle_14595096052071175243()\">Show/Hide code cell</a>\n",
       "    "
      ],
      "text/plain": [
       "<IPython.core.display.HTML object>"
      ]
     },
     "execution_count": 7,
     "metadata": {},
     "output_type": "execute_result"
    }
   ],
   "source": [
    "for i in range (len(data2['gender'])):\n",
    "    if data2['gender'][i]==-1:\n",
    "        data2['gender'][i]=1\n",
    "\n",
    "for i in range (len(data2['religion'])):\n",
    "    if data2['religion'][i]==1:\n",
    "        if data2['relImportance'][i]==1 or data2['relImportance'][i]==2:\n",
    "            data2['newReligion'][i]=1\n",
    "        else:\n",
    "            data2['newReligion'][i]=0\n",
    "    else:\n",
    "        data2['newReligion'][i]=0\n",
    "\n",
    "for i in range (len(data2['Thermo_republican'])):\n",
    "    if data2['Thermo_republican'][i]<0:\n",
    "        data2['Thermo_republican'][i]=data2['Thermo_republican'].mean()\n",
    "\n",
    "hide_toggle()"
   ]
  },
  {
   "cell_type": "markdown",
   "id": "c8151c2c",
   "metadata": {},
   "source": [
    "<br>\n",
    "<br>\n",
    "<font face=\"Helvetica\" size=\"3px\" color=\"#323752\" > Now, we can examine the clear format.</font>."
   ]
  },
  {
   "cell_type": "code",
   "execution_count": 8,
   "id": "be9fae7b",
   "metadata": {},
   "outputs": [
    {
     "data": {
      "text/html": [
       "<div>\n",
       "<style scoped>\n",
       "    .dataframe tbody tr th:only-of-type {\n",
       "        vertical-align: middle;\n",
       "    }\n",
       "\n",
       "    .dataframe tbody tr th {\n",
       "        vertical-align: top;\n",
       "    }\n",
       "\n",
       "    .dataframe thead th {\n",
       "        text-align: right;\n",
       "    }\n",
       "</style>\n",
       "<table border=\"1\" class=\"dataframe\">\n",
       "  <thead>\n",
       "    <tr style=\"text-align: right;\">\n",
       "      <th></th>\n",
       "      <th>Thermo_republican</th>\n",
       "      <th>gender</th>\n",
       "      <th>age</th>\n",
       "      <th>government</th>\n",
       "      <th>interTrust</th>\n",
       "      <th>elecTrust</th>\n",
       "      <th>religion</th>\n",
       "      <th>relImportance</th>\n",
       "      <th>newReligion</th>\n",
       "    </tr>\n",
       "  </thead>\n",
       "  <tbody>\n",
       "    <tr>\n",
       "      <th>0</th>\n",
       "      <td>100</td>\n",
       "      <td>1</td>\n",
       "      <td>46</td>\n",
       "      <td>1</td>\n",
       "      <td>3</td>\n",
       "      <td>3</td>\n",
       "      <td>11</td>\n",
       "      <td>2</td>\n",
       "      <td>0</td>\n",
       "    </tr>\n",
       "    <tr>\n",
       "      <th>1</th>\n",
       "      <td>0</td>\n",
       "      <td>1</td>\n",
       "      <td>37</td>\n",
       "      <td>1</td>\n",
       "      <td>4</td>\n",
       "      <td>2</td>\n",
       "      <td>12</td>\n",
       "      <td>5</td>\n",
       "      <td>0</td>\n",
       "    </tr>\n",
       "    <tr>\n",
       "      <th>2</th>\n",
       "      <td>0</td>\n",
       "      <td>1</td>\n",
       "      <td>40</td>\n",
       "      <td>1</td>\n",
       "      <td>4</td>\n",
       "      <td>4</td>\n",
       "      <td>11</td>\n",
       "      <td>3</td>\n",
       "      <td>0</td>\n",
       "    </tr>\n",
       "    <tr>\n",
       "      <th>3</th>\n",
       "      <td>15</td>\n",
       "      <td>1</td>\n",
       "      <td>41</td>\n",
       "      <td>1</td>\n",
       "      <td>2</td>\n",
       "      <td>4</td>\n",
       "      <td>2</td>\n",
       "      <td>1</td>\n",
       "      <td>0</td>\n",
       "    </tr>\n",
       "    <tr>\n",
       "      <th>4</th>\n",
       "      <td>85</td>\n",
       "      <td>1</td>\n",
       "      <td>72</td>\n",
       "      <td>1</td>\n",
       "      <td>4</td>\n",
       "      <td>2</td>\n",
       "      <td>12</td>\n",
       "      <td>4</td>\n",
       "      <td>0</td>\n",
       "    </tr>\n",
       "    <tr>\n",
       "      <th>...</th>\n",
       "      <td>...</td>\n",
       "      <td>...</td>\n",
       "      <td>...</td>\n",
       "      <td>...</td>\n",
       "      <td>...</td>\n",
       "      <td>...</td>\n",
       "      <td>...</td>\n",
       "      <td>...</td>\n",
       "      <td>...</td>\n",
       "    </tr>\n",
       "    <tr>\n",
       "      <th>8275</th>\n",
       "      <td>100</td>\n",
       "      <td>2</td>\n",
       "      <td>26</td>\n",
       "      <td>1</td>\n",
       "      <td>4</td>\n",
       "      <td>2</td>\n",
       "      <td>11</td>\n",
       "      <td>3</td>\n",
       "      <td>0</td>\n",
       "    </tr>\n",
       "    <tr>\n",
       "      <th>8276</th>\n",
       "      <td>70</td>\n",
       "      <td>2</td>\n",
       "      <td>52</td>\n",
       "      <td>1</td>\n",
       "      <td>2</td>\n",
       "      <td>5</td>\n",
       "      <td>4</td>\n",
       "      <td>1</td>\n",
       "      <td>0</td>\n",
       "    </tr>\n",
       "    <tr>\n",
       "      <th>8277</th>\n",
       "      <td>30</td>\n",
       "      <td>1</td>\n",
       "      <td>45</td>\n",
       "      <td>1</td>\n",
       "      <td>4</td>\n",
       "      <td>3</td>\n",
       "      <td>2</td>\n",
       "      <td>3</td>\n",
       "      <td>0</td>\n",
       "    </tr>\n",
       "    <tr>\n",
       "      <th>8278</th>\n",
       "      <td>100</td>\n",
       "      <td>1</td>\n",
       "      <td>65</td>\n",
       "      <td>1</td>\n",
       "      <td>2</td>\n",
       "      <td>3</td>\n",
       "      <td>1</td>\n",
       "      <td>1</td>\n",
       "      <td>1</td>\n",
       "    </tr>\n",
       "    <tr>\n",
       "      <th>8279</th>\n",
       "      <td>0</td>\n",
       "      <td>2</td>\n",
       "      <td>38</td>\n",
       "      <td>1</td>\n",
       "      <td>2</td>\n",
       "      <td>4</td>\n",
       "      <td>7</td>\n",
       "      <td>3</td>\n",
       "      <td>0</td>\n",
       "    </tr>\n",
       "  </tbody>\n",
       "</table>\n",
       "<p>8280 rows × 9 columns</p>\n",
       "</div>"
      ],
      "text/plain": [
       "      Thermo_republican  gender  age  government  interTrust  elecTrust  \\\n",
       "0                   100       1   46           1           3          3   \n",
       "1                     0       1   37           1           4          2   \n",
       "2                     0       1   40           1           4          4   \n",
       "3                    15       1   41           1           2          4   \n",
       "4                    85       1   72           1           4          2   \n",
       "...                 ...     ...  ...         ...         ...        ...   \n",
       "8275                100       2   26           1           4          2   \n",
       "8276                 70       2   52           1           2          5   \n",
       "8277                 30       1   45           1           4          3   \n",
       "8278                100       1   65           1           2          3   \n",
       "8279                  0       2   38           1           2          4   \n",
       "\n",
       "      religion  relImportance  newReligion  \n",
       "0           11              2            0  \n",
       "1           12              5            0  \n",
       "2           11              3            0  \n",
       "3            2              1            0  \n",
       "4           12              4            0  \n",
       "...        ...            ...          ...  \n",
       "8275        11              3            0  \n",
       "8276         4              1            0  \n",
       "8277         2              3            0  \n",
       "8278         1              1            1  \n",
       "8279         7              3            0  \n",
       "\n",
       "[8280 rows x 9 columns]"
      ]
     },
     "execution_count": 8,
     "metadata": {},
     "output_type": "execute_result"
    }
   ],
   "source": [
    "data2"
   ]
  },
  {
   "cell_type": "markdown",
   "id": "28b95ee0",
   "metadata": {},
   "source": [
    "<br>\n",
    "<br>\n",
    "<font face=\"Helvetica\" size=\"3px\" color=\"#323752\" >Let's calculate the univarite stats of the each variable. We will use <b>describe()</b> function of the pandas dataframe.</font>"
   ]
  },
  {
   "cell_type": "code",
   "execution_count": 9,
   "id": "420fc75e",
   "metadata": {},
   "outputs": [
    {
     "data": {
      "text/html": [
       "<div>\n",
       "<style scoped>\n",
       "    .dataframe tbody tr th:only-of-type {\n",
       "        vertical-align: middle;\n",
       "    }\n",
       "\n",
       "    .dataframe tbody tr th {\n",
       "        vertical-align: top;\n",
       "    }\n",
       "\n",
       "    .dataframe thead th {\n",
       "        text-align: right;\n",
       "    }\n",
       "</style>\n",
       "<table border=\"1\" class=\"dataframe\">\n",
       "  <thead>\n",
       "    <tr style=\"text-align: right;\">\n",
       "      <th></th>\n",
       "      <th>Thermo_republican</th>\n",
       "      <th>gender</th>\n",
       "      <th>age</th>\n",
       "      <th>government</th>\n",
       "      <th>interTrust</th>\n",
       "      <th>elecTrust</th>\n",
       "      <th>religion</th>\n",
       "      <th>relImportance</th>\n",
       "      <th>newReligion</th>\n",
       "    </tr>\n",
       "  </thead>\n",
       "  <tbody>\n",
       "    <tr>\n",
       "      <th>count</th>\n",
       "      <td>8280.000000</td>\n",
       "      <td>8280.000000</td>\n",
       "      <td>8280.000000</td>\n",
       "      <td>8280.000000</td>\n",
       "      <td>8280.000000</td>\n",
       "      <td>8280.000000</td>\n",
       "      <td>8280.000000</td>\n",
       "      <td>8280.000000</td>\n",
       "      <td>8280.000000</td>\n",
       "    </tr>\n",
       "    <tr>\n",
       "      <th>mean</th>\n",
       "      <td>40.408575</td>\n",
       "      <td>0.229589</td>\n",
       "      <td>49.038889</td>\n",
       "      <td>1.031763</td>\n",
       "      <td>2.785266</td>\n",
       "      <td>3.324638</td>\n",
       "      <td>6.046014</td>\n",
       "      <td>2.759179</td>\n",
       "      <td>0.180193</td>\n",
       "    </tr>\n",
       "    <tr>\n",
       "      <th>std</th>\n",
       "      <td>39.742611</td>\n",
       "      <td>2.223543</td>\n",
       "      <td>20.771267</td>\n",
       "      <td>1.162830</td>\n",
       "      <td>1.061931</td>\n",
       "      <td>1.432433</td>\n",
       "      <td>4.942714</td>\n",
       "      <td>1.652934</td>\n",
       "      <td>0.384372</td>\n",
       "    </tr>\n",
       "    <tr>\n",
       "      <th>min</th>\n",
       "      <td>0.000000</td>\n",
       "      <td>-8.000000</td>\n",
       "      <td>-9.000000</td>\n",
       "      <td>-9.000000</td>\n",
       "      <td>-9.000000</td>\n",
       "      <td>-9.000000</td>\n",
       "      <td>-9.000000</td>\n",
       "      <td>-9.000000</td>\n",
       "      <td>0.000000</td>\n",
       "    </tr>\n",
       "    <tr>\n",
       "      <th>25%</th>\n",
       "      <td>0.000000</td>\n",
       "      <td>1.000000</td>\n",
       "      <td>35.000000</td>\n",
       "      <td>1.000000</td>\n",
       "      <td>2.000000</td>\n",
       "      <td>3.000000</td>\n",
       "      <td>1.000000</td>\n",
       "      <td>1.000000</td>\n",
       "      <td>0.000000</td>\n",
       "    </tr>\n",
       "    <tr>\n",
       "      <th>50%</th>\n",
       "      <td>30.000000</td>\n",
       "      <td>1.000000</td>\n",
       "      <td>51.000000</td>\n",
       "      <td>1.000000</td>\n",
       "      <td>3.000000</td>\n",
       "      <td>3.000000</td>\n",
       "      <td>5.000000</td>\n",
       "      <td>3.000000</td>\n",
       "      <td>0.000000</td>\n",
       "    </tr>\n",
       "    <tr>\n",
       "      <th>75%</th>\n",
       "      <td>85.000000</td>\n",
       "      <td>1.000000</td>\n",
       "      <td>65.000000</td>\n",
       "      <td>1.000000</td>\n",
       "      <td>4.000000</td>\n",
       "      <td>4.000000</td>\n",
       "      <td>11.000000</td>\n",
       "      <td>4.000000</td>\n",
       "      <td>0.000000</td>\n",
       "    </tr>\n",
       "    <tr>\n",
       "      <th>max</th>\n",
       "      <td>100.000000</td>\n",
       "      <td>2.000000</td>\n",
       "      <td>80.000000</td>\n",
       "      <td>2.000000</td>\n",
       "      <td>5.000000</td>\n",
       "      <td>5.000000</td>\n",
       "      <td>12.000000</td>\n",
       "      <td>5.000000</td>\n",
       "      <td>1.000000</td>\n",
       "    </tr>\n",
       "  </tbody>\n",
       "</table>\n",
       "</div>"
      ],
      "text/plain": [
       "       Thermo_republican       gender          age   government   interTrust  \\\n",
       "count        8280.000000  8280.000000  8280.000000  8280.000000  8280.000000   \n",
       "mean           40.408575     0.229589    49.038889     1.031763     2.785266   \n",
       "std            39.742611     2.223543    20.771267     1.162830     1.061931   \n",
       "min             0.000000    -8.000000    -9.000000    -9.000000    -9.000000   \n",
       "25%             0.000000     1.000000    35.000000     1.000000     2.000000   \n",
       "50%            30.000000     1.000000    51.000000     1.000000     3.000000   \n",
       "75%            85.000000     1.000000    65.000000     1.000000     4.000000   \n",
       "max           100.000000     2.000000    80.000000     2.000000     5.000000   \n",
       "\n",
       "         elecTrust     religion  relImportance  newReligion  \n",
       "count  8280.000000  8280.000000    8280.000000  8280.000000  \n",
       "mean      3.324638     6.046014       2.759179     0.180193  \n",
       "std       1.432433     4.942714       1.652934     0.384372  \n",
       "min      -9.000000    -9.000000      -9.000000     0.000000  \n",
       "25%       3.000000     1.000000       1.000000     0.000000  \n",
       "50%       3.000000     5.000000       3.000000     0.000000  \n",
       "75%       4.000000    11.000000       4.000000     0.000000  \n",
       "max       5.000000    12.000000       5.000000     1.000000  "
      ]
     },
     "execution_count": 9,
     "metadata": {},
     "output_type": "execute_result"
    }
   ],
   "source": [
    "data2.describe()"
   ]
  },
  {
   "cell_type": "markdown",
   "id": "8e7f0182",
   "metadata": {},
   "source": [
    "<br>\n",
    "<br>\n",
    "<font face=\"Helvetica\" size=\"3px\" color=\"#323752\" >Another operation that might be applied to these varibles is observing their correlations between them. In order to do that, we will use the heatmap funtion of seaborn library</font>."
   ]
  },
  {
   "cell_type": "code",
   "execution_count": 10,
   "id": "3961133e",
   "metadata": {},
   "outputs": [
    {
     "data": {
      "image/png": "[encoded data removed]",
      "text/plain": [
       "<Figure size 2000x800 with 2 Axes>"
      ]
     },
     "metadata": {},
     "output_type": "display_data"
    },
    {
     "data": {
      "text/html": [
       "\n",
       "        <script>\n",
       "            function code_toggle_18021802140508490256() {\n",
       "                $('div.cell.code_cell.rendered.selected').find('div.input').toggle();\n",
       "            }\n",
       "\n",
       "            \n",
       "        </script>\n",
       "\n",
       "        <a href=\"javascript:code_toggle_18021802140508490256()\">Show/Hide code cell</a>\n",
       "    "
      ],
      "text/plain": [
       "<IPython.core.display.HTML object>"
      ]
     },
     "execution_count": 10,
     "metadata": {},
     "output_type": "execute_result"
    }
   ],
   "source": [
    "plt.figure(figsize=(20, 8))\n",
    "sns.heatmap(data2.corr(), annot = True, cmap='RdYlGn_r', mask=np.triu(np.ones_like(data2.corr())));\n",
    "plt.title('Correlations between factors', fontsize=20, fontweight='bold', pad=20);\n",
    "plt.show()\n",
    "hide_toggle()"
   ]
  },
  {
   "cell_type": "markdown",
   "id": "f9501e3d",
   "metadata": {},
   "source": [
    "<br>\n",
    "<br>\n",
    "<font face=\"Helvetica\" size=\"3px\" color=\"#323752\" >As shown in the heatmap, some of the variables have positive correlations while some of them have negative. Positive correlation means that while one of the variables is increasing the other one increases as well. In negative correlation, while one of the variables is increasing the other one decreases</font>."
   ]
  },
  {
   "cell_type": "markdown",
   "id": "d3200e39",
   "metadata": {},
   "source": [
    "<br>\n",
    "<br>\n",
    "<font face=\"Helvetica\" size=\"5px\" color=\"#323752\"> 3- Descriptive Graphs"
   ]
  },
  {
   "cell_type": "markdown",
   "id": "95fff7a6",
   "metadata": {},
   "source": [
    "<br>\n",
    "<br>\n",
    "<font face=\"Helvetica\" size=\"3px\" color=\"#323752\">In this part, we will plot some of the independent varibles, their distributions, probability density functions and also bivariate relations between them. We will start with Kernel Density Estimation (KDE) of our dependet variable. Kernel Density Estimation (KDE) is a way to estimate the probability density function of a continuous random variable</font>."
   ]
  },
  {
   "cell_type": "code",
   "execution_count": 11,
   "id": "4e8a443c",
   "metadata": {},
   "outputs": [
    {
     "data": {
      "image/png": "[encoded data removed]",
      "text/plain": [
       "<Figure size 1000x500 with 1 Axes>"
      ]
     },
     "metadata": {},
     "output_type": "display_data"
    },
    {
     "data": {
      "text/html": [
       "\n",
       "        <script>\n",
       "            function code_toggle_17708859525960334868() {\n",
       "                $('div.cell.code_cell.rendered.selected').find('div.input').toggle();\n",
       "            }\n",
       "\n",
       "            \n",
       "        </script>\n",
       "\n",
       "        <a href=\"javascript:code_toggle_17708859525960334868()\">Show/Hide code cell</a>\n",
       "    "
      ],
      "text/plain": [
       "<IPython.core.display.HTML object>"
      ]
     },
     "execution_count": 11,
     "metadata": {},
     "output_type": "execute_result"
    }
   ],
   "source": [
    "plt.figure(figsize=(10, 5))\n",
    "sns.kdeplot(data=data2, x=\"Thermo_republican\")\n",
    "plt.title('Thermometer toward the republican candidate (PDF)', fontsize=20, fontweight='bold', pad=20);\n",
    "plt.show()\n",
    "hide_toggle()"
   ]
  },
  {
   "cell_type": "markdown",
   "id": "96100e7b",
   "metadata": {},
   "source": [
    "<br>\n",
    "<font face=\"Helvetica\" size=\"3px\" color=\"#323752\">We can say that general approach is not positive toward the republician candidate. Let's continue with the independent variables. In this part <b>histograms</b> will be used to show the results. Labels are given in the variable section.\n",
    "<br>"
   ]
  },
  {
   "cell_type": "code",
   "execution_count": 12,
   "id": "cfe7ad54",
   "metadata": {},
   "outputs": [
    {
     "data": {
      "image/png": "[encoded data removed]",
      "text/plain": [
       "<Figure size 1000x500 with 1 Axes>"
      ]
     },
     "metadata": {},
     "output_type": "display_data"
    },
    {
     "data": {
      "text/html": [
       "\n",
       "        <script>\n",
       "            function code_toggle_9582110472365417502() {\n",
       "                $('div.cell.code_cell.rendered.selected').find('div.input').toggle();\n",
       "            }\n",
       "\n",
       "            \n",
       "        </script>\n",
       "\n",
       "        <a href=\"javascript:code_toggle_9582110472365417502()\">Show/Hide code cell</a>\n",
       "    "
      ],
      "text/plain": [
       "<IPython.core.display.HTML object>"
      ]
     },
     "execution_count": 12,
     "metadata": {},
     "output_type": "execute_result"
    }
   ],
   "source": [
    "plt.figure(figsize=(10, 5))\n",
    "sns.histplot(data=data2['interTrust'], stat=\"percent\",binrange=[0,data2['interTrust'].max()],  discrete=True);\n",
    "sns.set_style(\"whitegrid\", {'axes.grid' : True})\n",
    "plt.title('Interpersonal Trust', fontsize=20, fontweight='bold', pad=20);\n",
    "plt.xlabel('Interpersonal Trust Labels')\n",
    "plt.show()\n",
    "hide_toggle()"
   ]
  },
  {
   "cell_type": "markdown",
   "id": "f7b315db",
   "metadata": {},
   "source": [
    "<br>\n",
    "<font face=\"Helvetica\" size=\"3px\" color=\"#323752\">The most common answer to interpersonal trust question is <b>2. Most of the time.</b> Second parameter is age."
   ]
  },
  {
   "cell_type": "code",
   "execution_count": 13,
   "id": "dbb09801",
   "metadata": {},
   "outputs": [
    {
     "data": {
      "image/png": "[encoded data removed]",
      "text/plain": [
       "<Figure size 1000x500 with 1 Axes>"
      ]
     },
     "metadata": {},
     "output_type": "display_data"
    },
    {
     "data": {
      "text/html": [
       "\n",
       "        <script>\n",
       "            function code_toggle_2032062166188878752() {\n",
       "                $('div.cell.code_cell.rendered.selected').find('div.input').toggle();\n",
       "            }\n",
       "\n",
       "            \n",
       "        </script>\n",
       "\n",
       "        <a href=\"javascript:code_toggle_2032062166188878752()\">Show/Hide code cell</a>\n",
       "    "
      ],
      "text/plain": [
       "<IPython.core.display.HTML object>"
      ]
     },
     "execution_count": 13,
     "metadata": {},
     "output_type": "execute_result"
    }
   ],
   "source": [
    "plt.figure(figsize=(10, 5))\n",
    "sns.histplot(data=data2['age'], stat=\"count\",binrange=[0,data2['age'].max()],  discrete=True);\n",
    "sns.set_style(\"whitegrid\", {'axes.grid' : True})\n",
    "plt.title('Age Distributiaon', fontsize=20, fontweight='bold', pad=20);\n",
    "plt.xlabel('Age')\n",
    "plt.show()\n",
    "hide_toggle()"
   ]
  },
  {
   "cell_type": "markdown",
   "id": "ad10b4b0",
   "metadata": {},
   "source": [
    "<br>\n",
    "<font face=\"Helvetica\" size=\"3px\" color=\"#323752\"> 80 years old and older ages are given as 80 in our dataset. Next graph is about election officials trust."
   ]
  },
  {
   "cell_type": "code",
   "execution_count": 14,
   "id": "e56355d2",
   "metadata": {},
   "outputs": [
    {
     "data": {
      "image/png": "[encoded data removed]",
      "text/plain": [
       "<Figure size 1000x500 with 1 Axes>"
      ]
     },
     "metadata": {},
     "output_type": "display_data"
    },
    {
     "data": {
      "text/html": [
       "\n",
       "        <script>\n",
       "            function code_toggle_12067900830154465949() {\n",
       "                $('div.cell.code_cell.rendered.selected').find('div.input').toggle();\n",
       "            }\n",
       "\n",
       "            \n",
       "        </script>\n",
       "\n",
       "        <a href=\"javascript:code_toggle_12067900830154465949()\">Show/Hide code cell</a>\n",
       "    "
      ],
      "text/plain": [
       "<IPython.core.display.HTML object>"
      ]
     },
     "execution_count": 14,
     "metadata": {},
     "output_type": "execute_result"
    }
   ],
   "source": [
    "plt.figure(figsize=(10, 5))\n",
    "sns.histplot(data=data2['elecTrust'], stat=\"percent\",binrange=[0,data2['elecTrust'].max()],  discrete=True);\n",
    "sns.set_style(\"whitegrid\", {'axes.grid' : True})\n",
    "plt.title('Election Officials Trust Distributiaon', fontsize=20, fontweight='bold', pad=20);\n",
    "plt.xlabel('Election Officials Trust Labels')\n",
    "plt.ylabel('Percentage (%)')\n",
    "plt.show()\n",
    "hide_toggle()"
   ]
  },
  {
   "cell_type": "markdown",
   "id": "e0656fe8",
   "metadata": {},
   "source": [
    "<br>\n",
    "<font face=\"Helvetica\" size=\"3px\" color=\"#323752\"> The most common answers are <b>3. A moderate amount</b> and <b>4. A lot</b>. Next is government run by a few."
   ]
  },
  {
   "cell_type": "code",
   "execution_count": 15,
   "id": "9691cf8f",
   "metadata": {},
   "outputs": [
    {
     "data": {
      "image/png": "[encoded data removed]",
      "text/plain": [
       "<Figure size 1000x500 with 1 Axes>"
      ]
     },
     "metadata": {},
     "output_type": "display_data"
    },
    {
     "data": {
      "text/html": [
       "\n",
       "        <script>\n",
       "            function code_toggle_8890892521604370026() {\n",
       "                $('div.cell.code_cell.rendered.selected').find('div.input').toggle();\n",
       "            }\n",
       "\n",
       "            \n",
       "        </script>\n",
       "\n",
       "        <a href=\"javascript:code_toggle_8890892521604370026()\">Show/Hide code cell</a>\n",
       "    "
      ],
      "text/plain": [
       "<IPython.core.display.HTML object>"
      ]
     },
     "execution_count": 15,
     "metadata": {},
     "output_type": "execute_result"
    }
   ],
   "source": [
    "plt.figure(figsize=(10, 5))\n",
    "sns.histplot(data=data2['government'], stat=\"percent\",binrange=[0,data2['government'].max()+2],  discrete=True);\n",
    "sns.set_style(\"whitegrid\", {'axes.grid' : True})\n",
    "plt.title('Government run by few', fontsize=20, fontweight='bold', pad=20);\n",
    "plt.xlabel('Government run by few Labels')\n",
    "plt.show()\n",
    "hide_toggle()"
   ]
  },
  {
   "cell_type": "markdown",
   "id": "f002424b",
   "metadata": {},
   "source": [
    "<br>\n",
    "<font face=\"Helvetica\" size=\"3px\" color=\"#323752\">There is a clear winner, 1. Government is pretty much run by a few big interests looking out for themselves. Next operation will be a regression plot that shows the relation between our new varible that is about protestant religion information and thermometer toward the republican candidate. Before examining the result below, please read the variable section of <b>newReligion</b> again.\n",
    "<br>"
   ]
  },
  {
   "cell_type": "code",
   "execution_count": 16,
   "id": "32fb8864",
   "metadata": {},
   "outputs": [
    {
     "data": {
      "image/png": "[encoded data removed]",
      "text/plain": [
       "<Figure size 1200x600 with 1 Axes>"
      ]
     },
     "metadata": {},
     "output_type": "display_data"
    },
    {
     "data": {
      "text/html": [
       "\n",
       "        <script>\n",
       "            function code_toggle_11185319802504975377() {\n",
       "                $('div.cell.code_cell.rendered.selected').find('div.input').toggle();\n",
       "            }\n",
       "\n",
       "            \n",
       "        </script>\n",
       "\n",
       "        <a href=\"javascript:code_toggle_11185319802504975377()\">Show/Hide code cell</a>\n",
       "    "
      ],
      "text/plain": [
       "<IPython.core.display.HTML object>"
      ]
     },
     "execution_count": 16,
     "metadata": {},
     "output_type": "execute_result"
    }
   ],
   "source": [
    "plt.figure(figsize=(12, 6))\n",
    "sns.regplot(x='Thermo_republican', y='newReligion', data=data2, ci=None);\n",
    "plt.title('Correlation between Thermometer toward the republican candidate and protestants.', fontsize=20, fontweight='bold', pad=20);\n",
    "plt.ylabel('Is the respondant a extremely or very religious protestant? (Yes/No)')\n",
    "plt.xlabel('Thermometer toward the republican candidate')\n",
    "plt.show()\n",
    "hide_toggle()"
   ]
  },
  {
   "cell_type": "markdown",
   "id": "b9cba9ac",
   "metadata": {},
   "source": [
    "<br>\n",
    "<br>\n",
    "<font face=\"Helvetica\" size=\"5px\" color=\"#323752\"> 4- Linear Regression"
   ]
  },
  {
   "cell_type": "markdown",
   "id": "b582b44a",
   "metadata": {},
   "source": [
    "<br>\n",
    "<font face=\"Helvetica\" size=\"3px\" color=\"#323752\">In this section, we will learn about the <b> Multiple Linear Regression Model </b> and its implementation in Python.\n",
    "<br>\n",
    "<font face=\"Helvetica\" size=\"3px\" color=\"#323752\">Multiple Linear Regression is an extension of Simple Linear regression as it takes more than one predictor variable to predict the response variable. It is an important regression algorithm that models the linear relationship between a single dependent continuous variable and more than one independent variable. It uses two or more independent variables to predict a dependent variable by fitting a best linear relationship.\n",
    "<br>\n",
    "It has two or more independent variables (X) and one dependent variable (Y), where Y is the value to be predicted. Thus, it is an approach for predicting a quantitative response using multiple features.\n",
    "<br>"
   ]
  },
  {
   "cell_type": "markdown",
   "id": "97b95a2d",
   "metadata": {},
   "source": [
    "<br>\n",
    "<font face=\"Helvetica\" size=\"3px\" color=\"#323752\">Set the values for independent (X) variable and dependent (Y) variable."
   ]
  },
  {
   "cell_type": "code",
   "execution_count": 17,
   "id": "7733f381",
   "metadata": {},
   "outputs": [],
   "source": [
    "x = data2[['gender','age','government','interTrust',\n",
    "           'elecTrust', 'religion', 'relImportance', 'newReligion']]\n",
    "\n",
    "y = data2['Thermo_republican']"
   ]
  },
  {
   "cell_type": "markdown",
   "id": "8785bc71",
   "metadata": {},
   "source": [
    "<br>\n",
    "<font face=\"Helvetica\" size=\"3px\" color=\"#323752\"> Split the dataset into train and test set. <b>train_test_split  </b> is used for splitting data arrays into two subsets: for training data and testing data. With this function, you don’t need to divide the dataset manually. We need to split our dataset into training and testing sets. We’ll perform this by importing train_test_split from the sklearn.model_selection library. It is usually good to keep 75% of the data in your train dataset and the rest 25% in your test dataset.\n",
    "<br>"
   ]
  },
  {
   "cell_type": "code",
   "execution_count": 18,
   "id": "bc8f9181",
   "metadata": {},
   "outputs": [],
   "source": [
    "from sklearn.model_selection import train_test_split\n",
    "\n",
    "x_train,x_test, y_train, y_test = train_test_split(x, y, test_size = 0.25, random_state = 100)"
   ]
  },
  {
   "cell_type": "markdown",
   "id": "30229db4",
   "metadata": {},
   "source": [
    "<br>\n",
    "<font face=\"Helvetica\" size=\"3px\" color=\"#323752\"> Implement the linear model. We will use LinearRegression() from sklearn.\n",
    "<br>"
   ]
  },
  {
   "cell_type": "code",
   "execution_count": 19,
   "id": "5700fb43",
   "metadata": {},
   "outputs": [
    {
     "data": {
      "text/plain": [
       "LinearRegression()"
      ]
     },
     "execution_count": 19,
     "metadata": {},
     "output_type": "execute_result"
    }
   ],
   "source": [
    "#Fitting the Multiple Linear Regression model\n",
    "from sklearn.linear_model import LinearRegression\n",
    "\n",
    "mlr = LinearRegression()  \n",
    "mlr.fit(x_train, y_train)"
   ]
  },
  {
   "cell_type": "markdown",
   "id": "396081a6",
   "metadata": {},
   "source": [
    "<br>\n",
    "<font face=\"Helvetica\" size=\"3px\" color=\"#323752\"> To obtain the regression equation coefficients we will implement the following code.\n",
    "<br>"
   ]
  },
  {
   "cell_type": "code",
   "execution_count": 20,
   "id": "81c950ea",
   "metadata": {},
   "outputs": [
    {
     "name": "stdout",
     "output_type": "stream",
     "text": [
      "Intercept:  61.06446327528372\n",
      "Coefficients:\n"
     ]
    },
    {
     "data": {
      "text/plain": [
       "[('gender', -0.5694783290983726),\n",
       " ('age', 0.12335737057836153),\n",
       " ('government', 3.3502712826184933),\n",
       " ('interTrust', 0.3218141225170065),\n",
       " ('elecTrust', -5.212525087965339),\n",
       " ('religion', -0.4986582582672586),\n",
       " ('relImportance', -4.610846822140651),\n",
       " ('newReligion', 10.961267990760895)]"
      ]
     },
     "execution_count": 20,
     "metadata": {},
     "output_type": "execute_result"
    }
   ],
   "source": [
    "#Intercept and Coefficient\n",
    "print(\"Intercept: \", mlr.intercept_)\n",
    "print(\"Coefficients:\")\n",
    "list(zip(x, mlr.coef_))"
   ]
  },
  {
   "cell_type": "markdown",
   "id": "e5244c8a",
   "metadata": {},
   "source": [
    "<br>\n",
    "<font face=\"Helvetica\" size=\"3px\" color=\"#323752\"> Once we have fitted (trained) the model, we can make predictions using the <b>predict()</b> function. We pass the values of x_test to this method and compare the predicted values called y_pred_mlr with y_test values to check how accurate our predicted values are.\n",
    "<br>"
   ]
  },
  {
   "cell_type": "code",
   "execution_count": 21,
   "id": "9e381a0d",
   "metadata": {},
   "outputs": [
    {
     "name": "stdout",
     "output_type": "stream",
     "text": [
      "Prediction for test set: [47.17917471 37.95754948 42.17566438 ... 53.75536376 52.5331664\n",
      " 34.04949262]\n"
     ]
    }
   ],
   "source": [
    "#Prediction of test set\n",
    "y_pred_mlr= mlr.predict(x_test)\n",
    "#Predicted values\n",
    "print(\"Prediction for test set: {}\".format(y_pred_mlr))"
   ]
  },
  {
   "cell_type": "markdown",
   "id": "293c5e23",
   "metadata": {},
   "source": [
    "<br>\n",
    "<font face=\"Helvetica\" size=\"3px\" color=\"#323752\"> Actual values and the predicted values.\n",
    "<br>"
   ]
  },
  {
   "cell_type": "code",
   "execution_count": 22,
   "id": "d0c62766",
   "metadata": {},
   "outputs": [
    {
     "data": {
      "text/html": [
       "<div>\n",
       "<style scoped>\n",
       "    .dataframe tbody tr th:only-of-type {\n",
       "        vertical-align: middle;\n",
       "    }\n",
       "\n",
       "    .dataframe tbody tr th {\n",
       "        vertical-align: top;\n",
       "    }\n",
       "\n",
       "    .dataframe thead th {\n",
       "        text-align: right;\n",
       "    }\n",
       "</style>\n",
       "<table border=\"1\" class=\"dataframe\">\n",
       "  <thead>\n",
       "    <tr style=\"text-align: right;\">\n",
       "      <th></th>\n",
       "      <th>Actual value</th>\n",
       "      <th>Predicted value</th>\n",
       "    </tr>\n",
       "  </thead>\n",
       "  <tbody>\n",
       "    <tr>\n",
       "      <th>8002</th>\n",
       "      <td>100</td>\n",
       "      <td>47.179175</td>\n",
       "    </tr>\n",
       "    <tr>\n",
       "      <th>1432</th>\n",
       "      <td>85</td>\n",
       "      <td>37.957549</td>\n",
       "    </tr>\n",
       "    <tr>\n",
       "      <th>1629</th>\n",
       "      <td>0</td>\n",
       "      <td>42.175664</td>\n",
       "    </tr>\n",
       "    <tr>\n",
       "      <th>3192</th>\n",
       "      <td>15</td>\n",
       "      <td>22.280323</td>\n",
       "    </tr>\n",
       "    <tr>\n",
       "      <th>6754</th>\n",
       "      <td>40</td>\n",
       "      <td>53.969793</td>\n",
       "    </tr>\n",
       "    <tr>\n",
       "      <th>...</th>\n",
       "      <td>...</td>\n",
       "      <td>...</td>\n",
       "    </tr>\n",
       "    <tr>\n",
       "      <th>1129</th>\n",
       "      <td>0</td>\n",
       "      <td>24.757928</td>\n",
       "    </tr>\n",
       "    <tr>\n",
       "      <th>7085</th>\n",
       "      <td>100</td>\n",
       "      <td>54.889877</td>\n",
       "    </tr>\n",
       "    <tr>\n",
       "      <th>399</th>\n",
       "      <td>100</td>\n",
       "      <td>53.755364</td>\n",
       "    </tr>\n",
       "    <tr>\n",
       "      <th>7839</th>\n",
       "      <td>70</td>\n",
       "      <td>52.533166</td>\n",
       "    </tr>\n",
       "    <tr>\n",
       "      <th>4755</th>\n",
       "      <td>0</td>\n",
       "      <td>34.049493</td>\n",
       "    </tr>\n",
       "  </tbody>\n",
       "</table>\n",
       "<p>2070 rows × 2 columns</p>\n",
       "</div>"
      ],
      "text/plain": [
       "      Actual value  Predicted value\n",
       "8002           100        47.179175\n",
       "1432            85        37.957549\n",
       "1629             0        42.175664\n",
       "3192            15        22.280323\n",
       "6754            40        53.969793\n",
       "...            ...              ...\n",
       "1129             0        24.757928\n",
       "7085           100        54.889877\n",
       "399            100        53.755364\n",
       "7839            70        52.533166\n",
       "4755             0        34.049493\n",
       "\n",
       "[2070 rows x 2 columns]"
      ]
     },
     "execution_count": 22,
     "metadata": {},
     "output_type": "execute_result"
    }
   ],
   "source": [
    "#Actual value and the predicted value\n",
    "mlr_diff = pd.DataFrame({'Actual value': y_test, 'Predicted value': y_pred_mlr})\n",
    "mlr_diff"
   ]
  },
  {
   "cell_type": "markdown",
   "id": "e53e2470",
   "metadata": {},
   "source": [
    "<br>\n",
    "<font face=\"Helvetica\" size=\"3px\" color=\"#323752\"> In order to evaluate the model we wiil use <b>metrics</b> from sklearn.\n",
    "<br>"
   ]
  },
  {
   "cell_type": "code",
   "execution_count": 23,
   "id": "2d7fcf7c",
   "metadata": {},
   "outputs": [
    {
     "name": "stdout",
     "output_type": "stream",
     "text": [
      "R squared: 12.52\n",
      "Mean Absolute Error: 32.95629067316155\n",
      "Mean Square Error: 1384.8373438061174\n",
      "Root Mean Square Error: 37.21340274425489\n"
     ]
    }
   ],
   "source": [
    "from sklearn import metrics\n",
    "meanAbErr = metrics.mean_absolute_error(y_test, y_pred_mlr)\n",
    "meanSqErr = metrics.mean_squared_error(y_test, y_pred_mlr)\n",
    "rootMeanSqErr = np.sqrt(metrics.mean_squared_error(y_test, y_pred_mlr))\n",
    "print('R squared: {:.2f}'.format(mlr.score(x,y)*100))\n",
    "print('Mean Absolute Error:', meanAbErr)\n",
    "print('Mean Square Error:', meanSqErr)\n",
    "print('Root Mean Square Error:', rootMeanSqErr)"
   ]
  },
  {
   "cell_type": "markdown",
   "id": "d70686ce",
   "metadata": {},
   "source": [
    "<br>\n",
    "<font face=\"Helvetica\" size=\"3px\" color=\"#323752\"> Our R Squared value is quite low which shows us how many points fall on the regression line. Also error values are considerably high. Which indicates that this dataset or varibles that we choosed are not appropriate to obtain a good linear regression model.\n",
    "<br>"
   ]
  },
  {
   "cell_type": "markdown",
   "id": "c5be8ec4",
   "metadata": {},
   "source": [
    "<br>\n",
    "<font face=\"Helvetica\" size=\"3px\" color=\"#323752\">We can see the data points and linear regression plot of the model below.\n",
    "<br>"
   ]
  },
  {
   "cell_type": "code",
   "execution_count": 24,
   "id": "a193dbe5",
   "metadata": {},
   "outputs": [
    {
     "data": {
      "image/png": "[encoded data removed]",
      "text/plain": [
       "<Figure size 1000x500 with 1 Axes>"
      ]
     },
     "metadata": {},
     "output_type": "display_data"
    },
    {
     "data": {
      "text/html": [
       "\n",
       "        <script>\n",
       "            function code_toggle_906350079144351576() {\n",
       "                $('div.cell.code_cell.rendered.selected').find('div.input').toggle();\n",
       "            }\n",
       "\n",
       "            \n",
       "        </script>\n",
       "\n",
       "        <a href=\"javascript:code_toggle_906350079144351576()\">Show/Hide code cell</a>\n",
       "    "
      ],
      "text/plain": [
       "<IPython.core.display.HTML object>"
      ]
     },
     "execution_count": 24,
     "metadata": {},
     "output_type": "execute_result"
    }
   ],
   "source": [
    "plt.figure(figsize=(10, 5))\n",
    "sns.regplot(x='Predicted value', y='Actual value', data=mlr_diff, ci=None);\n",
    "\n",
    "plt.show()\n",
    "hide_toggle()"
   ]
  },
  {
   "cell_type": "markdown",
   "id": "85022b43",
   "metadata": {},
   "source": [
    "<br>\n",
    "<br>\n",
    "<font face=\"Helvetica\" size=\"5px\" color=\"#323752\"> 5- Interactive Linear Regression Widgets "
   ]
  },
  {
   "cell_type": "markdown",
   "id": "7c34abee",
   "metadata": {},
   "source": [
    "<br>\n",
    "<font face=\"Helvetica\" size=\"3px\" color=\"#323752\"> In this part, we use logistic regression widgets. We demonstrate simple logistic regression of single variable using interactive control elements. We will use a single varible for the sake of simplicity of visualization."
   ]
  },
  {
   "cell_type": "markdown",
   "id": "080b98ba",
   "metadata": {},
   "source": [
    "<br>\n",
    "<font face=\"Helvetica\" size=\"3px\" color=\"#323752\"> Let's start with importing the widget functions."
   ]
  },
  {
   "cell_type": "code",
   "execution_count": 25,
   "id": "3a6b41a9",
   "metadata": {},
   "outputs": [
    {
     "data": {
      "text/html": [
       "\n",
       "        <script>\n",
       "            function code_toggle_16186383626144245635() {\n",
       "                $('div.cell.code_cell.rendered.selected').find('div.input').toggle();\n",
       "            }\n",
       "\n",
       "            \n",
       "        </script>\n",
       "\n",
       "        <a href=\"javascript:code_toggle_16186383626144245635()\">Show/Hide code cell</a>\n",
       "    "
      ],
      "text/plain": [
       "<IPython.core.display.HTML object>"
      ]
     },
     "execution_count": 25,
     "metadata": {},
     "output_type": "execute_result"
    }
   ],
   "source": [
    "from ipywidgets import interact, interactive, IntSlider, Layout, interact_manual\n",
    "hide_toggle()"
   ]
  },
  {
   "cell_type": "markdown",
   "id": "7092efd7",
   "metadata": {},
   "source": [
    "<br>\n",
    "<font face=\"Helvetica\" size=\"3px\" color=\"#323752\"> The following widgets  allow the user to introduce noise, change model complexity, and examine the impact of regularization, all on the fly and see the resulting model and predictions instantly."
   ]
  },
  {
   "cell_type": "code",
   "execution_count": 26,
   "id": "c85f7328",
   "metadata": {},
   "outputs": [
    {
     "data": {
      "text/html": [
       "\n",
       "        <script>\n",
       "            function code_toggle_12981160362536984016() {\n",
       "                $('div.cell.code_cell.rendered.selected').find('div.input').toggle();\n",
       "            }\n",
       "\n",
       "            \n",
       "        </script>\n",
       "\n",
       "        <a href=\"javascript:code_toggle_12981160362536984016()\">Show/Hide code cell</a>\n",
       "    "
      ],
      "text/plain": [
       "<IPython.core.display.HTML object>"
      ]
     },
     "execution_count": 26,
     "metadata": {},
     "output_type": "execute_result"
    }
   ],
   "source": [
    "N_samples = 25\n",
    "x_min = -5\n",
    "x_max = 5\n",
    "x1= np.linspace(x_min,x_max,N_samples*5)\n",
    "x= np.random.choice(x1,size=N_samples)\n",
    "noise_std=1\n",
    "noise_mean=0\n",
    "noise_magnitude = 2\n",
    "hide_toggle()"
   ]
  },
  {
   "cell_type": "code",
   "execution_count": 27,
   "id": "4b7f5780",
   "metadata": {},
   "outputs": [
    {
     "data": {
      "text/html": [
       "\n",
       "        <script>\n",
       "            function code_toggle_13442610284742829478() {\n",
       "                $('div.cell.code_cell.rendered.selected').find('div.input').toggle();\n",
       "            }\n",
       "\n",
       "            \n",
       "        </script>\n",
       "\n",
       "        <a href=\"javascript:code_toggle_13442610284742829478()\">Show/Hide code cell</a>\n",
       "    "
      ],
      "text/plain": [
       "<IPython.core.display.HTML object>"
      ]
     },
     "execution_count": 27,
     "metadata": {},
     "output_type": "execute_result"
    }
   ],
   "source": [
    "def func_gen(N_samples,x_min,x_max,noise_magnitude,noise_sd,noise_mean):\n",
    "    x1= np.linspace(x_min,x_max,N_samples*5)\n",
    "    x= np.random.choice(x1,size=N_samples)\n",
    "    y=2*x-0.6*x**2+0.2*x**3+18*np.sin(x)\n",
    "    y1=2*x1-0.6*x1**2+0.2*x1**3+18*np.sin(x1)\n",
    "    y= y+noise_magnitude*np.random.normal(loc=noise_mean,scale=noise_sd,size=N_samples)\n",
    "    plt.figure(figsize=(8,5))\n",
    "    plt.plot(x1,y1,c='k',lw=2)\n",
    "    plt.scatter(x,y,edgecolors='k',c='c',s=60)\n",
    "    plt.grid(True)\n",
    "    plt.show()\n",
    "    return (x,y,x1,y1)\n",
    "hide_toggle()"
   ]
  },
  {
   "cell_type": "markdown",
   "id": "d8f11db5",
   "metadata": {},
   "source": [
    "<br>\n",
    "<font face=\"Helvetica\" size=\"3px\" color=\"#323752\"> The first widget will create data samples with different parameters. User can change the number of the data points, lower and upper limit of the range. Also magnitude, mean, and standard deviation of the noise are the other parameters that can be changed. Constructed data points will be spliting to test and training data in the following widget."
   ]
  },
  {
   "cell_type": "code",
   "execution_count": 28,
   "id": "937858f7",
   "metadata": {},
   "outputs": [
    {
     "data": {
      "application/vnd.jupyter.widget-view+json": {
       "model_id": "49816094256146e585145d6295a169e5",
       "version_major": 2,
       "version_minor": 0
      },
      "text/plain": [
       "interactive(children=(Dropdown(description='N_samples', options={'Low (75 samples)': 75, 'High (250 samples)':…"
      ]
     },
     "metadata": {},
     "output_type": "display_data"
    }
   ],
   "source": [
    "\n",
    "p=interactive(func_gen,N_samples={'Low (75 samples)':75,'High (250 samples)':250},x_min=(-5,0,1), x_max=(0,5,1),\n",
    "              noise_magnitude=(0,5,1),noise_sd=(0.1,1,0.1),noise_mean=(-2,2,0.5))\n",
    "p"
   ]
  },
  {
   "cell_type": "code",
   "execution_count": 29,
   "id": "c2e0b781",
   "metadata": {},
   "outputs": [
    {
     "data": {
      "text/html": [
       "\n",
       "        <script>\n",
       "            function code_toggle_10915873588274790471() {\n",
       "                $('div.cell.code_cell.rendered.selected').find('div.input').toggle();\n",
       "            }\n",
       "\n",
       "            \n",
       "        </script>\n",
       "\n",
       "        <a href=\"javascript:code_toggle_10915873588274790471()\">Show/Hide code cell</a>\n",
       "    "
      ],
      "text/plain": [
       "<IPython.core.display.HTML object>"
      ]
     },
     "execution_count": 29,
     "metadata": {},
     "output_type": "execute_result"
    }
   ],
   "source": [
    "x,y,x1,y1 = p.result\n",
    "hide_toggle()"
   ]
  },
  {
   "cell_type": "code",
   "execution_count": 30,
   "id": "b6ee9b2a",
   "metadata": {},
   "outputs": [
    {
     "data": {
      "text/html": [
       "\n",
       "        <script>\n",
       "            function code_toggle_3053391953988489890() {\n",
       "                $('div.cell.code_cell.rendered.selected').find('div.input').toggle();\n",
       "            }\n",
       "\n",
       "            \n",
       "        </script>\n",
       "\n",
       "        <a href=\"javascript:code_toggle_3053391953988489890()\">Show/Hide code cell</a>\n",
       "    "
      ],
      "text/plain": [
       "<IPython.core.display.HTML object>"
      ]
     },
     "execution_count": 30,
     "metadata": {},
     "output_type": "execute_result"
    }
   ],
   "source": [
    "from sklearn.preprocessing import PolynomialFeatures\n",
    "from sklearn.linear_model import LassoCV\n",
    "from sklearn.linear_model import RidgeCV\n",
    "from sklearn.pipeline import make_pipeline\n",
    "hide_toggle()"
   ]
  },
  {
   "cell_type": "code",
   "execution_count": 31,
   "id": "badce2c4",
   "metadata": {},
   "outputs": [
    {
     "data": {
      "text/html": [
       "\n",
       "        <script>\n",
       "            function code_toggle_16214721842126172444() {\n",
       "                $('div.cell.code_cell.rendered.selected').find('div.input').toggle();\n",
       "            }\n",
       "\n",
       "            \n",
       "        </script>\n",
       "\n",
       "        <a href=\"javascript:code_toggle_16214721842126172444()\">Show/Hide code cell</a>\n",
       "    "
      ],
      "text/plain": [
       "<IPython.core.display.HTML object>"
      ]
     },
     "execution_count": 31,
     "metadata": {},
     "output_type": "execute_result"
    }
   ],
   "source": [
    "lasso_eps = 0.01\n",
    "lasso_nalpha=20\n",
    "lasso_iter=3000\n",
    "ridge_alphas = (0.001,0.01,0.1,1)\n",
    "\n",
    "def func_fit(model_type,test_size,degree):\n",
    "    X_train, X_test, y_train, y_test = train_test_split(x,y,test_size=test_size,random_state=55)\n",
    "    \n",
    "    if (model_type=='Linear regression'):\n",
    "        model = make_pipeline(PolynomialFeatures(degree,interaction_only=False), \n",
    "                          LinearRegression(normalize=True))\n",
    "    if (model_type=='LASSO with CV'):    \n",
    "        model = make_pipeline(PolynomialFeatures(degree,interaction_only=False), \n",
    "                              LassoCV(eps=lasso_eps,n_alphas=lasso_nalpha,max_iter=lasso_iter,normalize=True,cv=5))\n",
    "        \n",
    "    if (model_type=='Ridge with CV'):    \n",
    "        model = make_pipeline(PolynomialFeatures(degree,interaction_only=False), \n",
    "                              RidgeCV(alphas=ridge_alphas,normalize=True,cv=5))\n",
    "    \n",
    "    X_train=X_train.reshape(-1,1)\n",
    "    X_test=X_test.reshape(-1,1)\n",
    "    \n",
    "    model.fit(X_train,y_train)\n",
    "    \n",
    "    train_pred = np.array(model.predict(X_train))\n",
    "    train_score = model.score(X_train,y_train)\n",
    "    \n",
    "    test_pred = np.array(model.predict(X_test))\n",
    "    test_score = model.score(X_test,y_test)\n",
    "    \n",
    "    RMSE_test=np.sqrt(np.mean(np.square(test_pred-y_test)))\n",
    "    RMSE_train=np.sqrt(np.mean(np.square(train_pred-y_train)))\n",
    "       \n",
    "    plt.figure(figsize=(14,6))\n",
    "    \n",
    "    plt.subplot(1,2,1)\n",
    "    plt.title(\"Test set performance\\nTest score: %.3f\"%(test_score),fontsize=16)\n",
    "    plt.xlabel(\"X-test\",fontsize=13)\n",
    "    plt.ylabel(\"y-test\",fontsize=13)\n",
    "    plt.scatter(X_test,y_test,edgecolors='k',c='blue',s=60)\n",
    "    plt.scatter(X_test,test_pred,edgecolors='k',c='c',s=60)\n",
    "    plt.grid(True)\n",
    "    plt.legend(['Actual test values','Predicted values'])\n",
    "    \n",
    "    plt.subplot(1,2,2)\n",
    "    plt.title(\"Training set performance\\nTraining score: %.3f\"%(train_score),fontsize=16)\n",
    "    plt.xlabel(\"X-train\",fontsize=13)\n",
    "    plt.ylabel(\"y-train\",fontsize=13)\n",
    "    plt.scatter(X_train,y_train,c='blue')\n",
    "    plt.scatter(X_train,train_pred,c='c')\n",
    "    plt.grid(True)\n",
    "    plt.legend(['Actual training values','Fitted values'])\n",
    "    \n",
    "    plt.show()\n",
    "       \n",
    "    return (train_score,test_score)\n",
    "hide_toggle()"
   ]
  },
  {
   "cell_type": "markdown",
   "id": "eb4a906d",
   "metadata": {},
   "source": [
    "<br>\n",
    "<font face=\"Helvetica\" size=\"3px\" color=\"#323752\">Let's talk about the following interactive hyperparameters.The first one choses the model type. The following one is test fraction which determines the size of the test set (fraction of total sample data used in test). Last one is Model complexity (degree of polynomial)."
   ]
  },
  {
   "cell_type": "markdown",
   "id": "d1e65db4",
   "metadata": {},
   "source": [
    "<br>\n",
    "<font face=\"Helvetica\" size=\"3px\" color=\"#323752\"> You can observe the test and training scores by changing these parameters."
   ]
  },
  {
   "cell_type": "code",
   "execution_count": 32,
   "id": "8fdd9009",
   "metadata": {},
   "outputs": [
    {
     "data": {
      "application/vnd.jupyter.widget-view+json": {
       "model_id": "44e6bc2fabde4786b3a828a914c3dece",
       "version_major": 2,
       "version_minor": 0
      },
      "text/plain": [
       "interactive(children=(RadioButtons(description='Choose Model', layout=Layout(width='250px'), options=('Linear …"
      ]
     },
     "metadata": {},
     "output_type": "display_data"
    }
   ],
   "source": [
    "style = {'description_width': 'initial'}\n",
    "# Continuous_update = False for IntSlider control to stop continuous model evaluation while the slider is being dragged\n",
    "m = interactive(func_fit,model_type=widgets.RadioButtons(options=['Linear regression','LASSO with CV', 'Ridge with CV'],\n",
    "                                                    description = \"Choose Model\",style=style,\n",
    "                                                        layout=Layout(width='250px')),\n",
    "                test_size=widgets.Dropdown(options={\"10% of data\":0.1,\"20% of data\":0.2, \"30% of data\":0.3,\n",
    "                                                    \"40% of data\":0.4,\"50% of data\":0.5},\n",
    "                                          description=\"Test set size ($X_{test}$)\",style=style),\n",
    "               degree=widgets.IntSlider(min=1,max=10,step=1,description= 'Polynomial($\\sum\\limits_{i=1}^n a_nx^n$)',\n",
    "                                       style=style,continuous_update=False))\n",
    "\n",
    "# Set the height of the control.children[-1] so that the output does not jump and flicker\n",
    "output = m.children[-1]\n",
    "output.layout.height = '450px'\n",
    "m"
   ]
  },
  {
   "cell_type": "code",
   "execution_count": null,
   "id": "2b00b645",
   "metadata": {},
   "outputs": [],
   "source": []
  }
 ],
 "metadata": {
  "kernelspec": {
   "display_name": "Python 3",
   "language": "python",
   "name": "python3"
  },
  "language_info": {
   "codemirror_mode": {
    "name": "ipython",
    "version": 3
   },
   "file_extension": ".py",
   "mimetype": "text/x-python",
   "name": "python",
   "nbconvert_exporter": "python",
   "pygments_lexer": "ipython3",
   "version": "3.7.11"
  }
 },
 "nbformat": 4,
 "nbformat_minor": 5
}
